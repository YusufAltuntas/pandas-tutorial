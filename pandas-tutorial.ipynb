{
 "cells": [
  {
   "cell_type": "markdown",
   "metadata": {},
   "source": [
    "![](https://miro.medium.com/v2/resize:fit:720/format:webp/1*3GbLagVDPY9QKjjgB_Tfqw.png)"
   ]
  },
  {
   "cell_type": "markdown",
   "metadata": {},
   "source": [
    "## Pandas Serileri ve Veri Çerçeveleri\n",
    "\n",
    "1. **Pandas Nedir?**\n",
    "   - Pandas'ın tanımı\n",
    "   - Pandas'ın kullanım alanları\n",
    "   \n",
    "2. **Veri Yapıları**\n",
    "\n",
    "  - **Pandas Serileri**\n",
    "     - Seri nedir?\n",
    "     - Seri oluşturma\n",
    "       - Listelerden seri oluşturma\n",
    "       - NumPy dizilerinden seri oluşturma\n",
    "     - Seri İndeksleme ve Dilimleme\n",
    "     - Seri Özellikleri ve Metodları\n",
    "       - `head()` ve `tail()`\n",
    "       - `describe()`\n",
    "       - `value_counts()`\n",
    "       - `unique()`\n",
    "   \n",
    "  - **Pandas Veri Çerçeveleri**\n",
    "     - Veri çerçevesi nedir?\n",
    "     - Veri çerçevesi oluşturma\n",
    "       - Sözlükten veri çerçevesi oluşturma\n",
    "       - NumPy dizisinden veri çerçevesi oluşturma\n",
    "     - Veri Çerçevesi İndeksleme ve Dilimleme\n",
    "     - Veri Çerçevesi Özellikleri ve Metodları\n",
    "       - `info()`\n",
    "       - `head()` ve `tail()`\n",
    "       - `describe()`\n",
    "       - `shape`\n",
    "       - `columns`\n",
    "       - `index`\n",
    "\n",
    "3. **Veri Okuma ve Yazma**\n",
    "   - CSV dosyalarından veri okuma\n",
    "   - Excel dosyalarından veri okuma\n",
    "   - Veri çerçevesini CSV ve Excel formatlarında kaydetme\n",
    "\n",
    "4. **Veri Kontrolü**\n",
    "\n",
    "   - İlk ve Son Gözlemleri Görüntüleme\n",
    "   - Satır ve Sütun Sayısı Bilgisi Alma: shape\n",
    "   - Veri Seti Hakkında Detaylı Bilgi Alma: info()\n",
    "   - Sütun ve Satır Gösterimi Ayarları: pd.set_option()\n",
    "\n",
    "5. **Satır ve Sütunlara İşlemleri**\n",
    "\n",
    "   - **Sütunlara Erişme**\n",
    "     - Tekil Erişim\n",
    "     - Çoklu Erişim\n",
    "\n",
    "   - **Satırlara Erişme: iloc ve loc**\n",
    "     - iloc()\n",
    "     - loc()\n",
    "     - Satır ve Sütunlara Erişme: İki Nokta Kullanımı (indexing)\n",
    "\n",
    "   - **Satır ve Sütunlara Erişme: İki Nokta Kullanımı (indexing)**\n",
    "     - Belirli Bir Satır Aralığına Erişme\n",
    "     - Belirli Bir Sütun Aralığına Erişme\n",
    "     - Belirli Bir Satır ve Sütun Aralığına Erişme\n",
    "     - Koşullu Erişim ve Dilimleme\n",
    "\n",
    "   - **Sütuna Ait Değerleri Saydırma: value_counts()**\n",
    "\n",
    "6. **İndex İşlemleri**\n",
    "\n",
    "   - **İndeks nedir?**\n",
    "\n",
    "   - **İndeks Ayarlama: set_index() ve index_col**\n",
    "     - set_index()\n",
    "     - index_col Kullanımı\n",
    "\n",
    "   - **İndeks Aracılığıyla Erişim: loc**\n",
    "   - **İndeks Sıfırlama: reset_index()**\n",
    "   - **İndekslerin Sıralanması: sort_index()**\n",
    "\n",
    "7. **Filtreleme**\n",
    "\n",
    "\n",
    "\n",
    "\n",
    "\n",
    "\n",
    "5. **Veri İşleme ve Temizleme**\n",
    "   - Eksik verilerle başa çıkma\n",
    "     - `isnull()` ve `notnull()`\n",
    "     - `dropna()`\n",
    "     - `fillna()`\n",
    "   - Veri türü dönüşümleri\n",
    "   - Veri çerçevesinde tekrar eden değerleri kaldırma\n",
    "   - Sütun ve satır ekleme, silme ve güncelleme\n",
    "\n",
    "6. **Veri Görselleştirme**\n",
    "   - Veri çerçevesi görselleştirme\n",
    "     - `plot()`\n",
    "     - `hist()`\n",
    "     - `boxplot()`\n",
    "   - Grafiklerin özelleştirilmesi\n",
    "\n",
    "7. **Veri Analizi**\n",
    "   - Temel istatistiksel hesaplamalar\n",
    "     - `mean()`, `median()`, `std()`, `min()`, `max()`, `sum()`\n",
    "   - Gruplama ve toplulaştırma\n",
    "     - `groupby()`\n",
    "   - Veri sıralama\n",
    "     - `sort_values()`\n",
    "     - `sort_index()`\n",
    "\n",
    "8. **Veri Birleştirme ve Birleştirme**\n",
    "   - Veri birleştirme\n",
    "     - `concat()`\n",
    "     - `merge()`\n",
    "   - Veri çerçeveleri arası birleştirme\n",
    "     - `join()`\n",
    "\n",
    "9. **Zaman Serisi Verileri**\n",
    "   - Tarih ve saat veri türleri\n",
    "   - Zaman serisi oluşturma\n",
    "   - Zaman serileri üzerinde işlemler\n",
    "     - Filtreleme, örnekleme, kaydırma\n",
    "\n",
    "10. **Pandas İleri Seviye Kavramlar**\n",
    "    - İleri seviye indeksleme ve seçme\n",
    "    - Pandas'ın hızlandırılması ve performans optimizasyonu\n",
    "    - Büyük veri kümeleri ile çalışma\n",
    "\n",
    "Bu başlıklar altında Pandas'ın temellerinden başlayarak ileri seviye kavramlara kadar geniş bir yelpazede bilgi edinebilirsiniz. Her bir başlık altında örneklerle detaylı bir şekilde konuları ele alacağız."
   ]
  },
  {
   "cell_type": "markdown",
   "metadata": {},
   "source": [
    "## **Pandas Temelleri**"
   ]
  },
  {
   "cell_type": "markdown",
   "metadata": {},
   "source": [
    "## **1) Kurulum**\n",
    "\n",
    "Pandas'ı yüklemek için `pip` veya `conda` kullanabiliriz. Bu kurulumlar, Python ortamınıza pandas kütüphanesini ekler.\n",
    "\n",
    "### **Pip Kullanarak Kurulum:**\n",
    "\n",
    "Pip, Python paketlerinin yönetiminde sıkça kullanılan bir araçtır. Aşağıdaki komutu kullanarak pandas'ı pip aracılığıyla kurabilirsiniz:\n",
    "\n",
    "```bash\n",
    "pip install pandas\n",
    "```\n",
    "\n",
    "### **Conda Kullanarak Kurulum:**\n",
    "\n",
    "Conda, Anaconda veya Miniconda gibi dağıtımlarla birlikte gelen bir paket yöneticisidir. Aşağıdaki komutu kullanarak pandas'ı conda aracılığıyla kurabilirsiniz:\n",
    "\n",
    "```bash\n",
    "conda install pandas\n",
    "```\n",
    "\n",
    "Bu komutlar, pandas kütüphanesinin en son sürümünü indirir ve yükler.\n",
    "\n",
    "---"
   ]
  },
  {
   "cell_type": "code",
   "execution_count": 280,
   "metadata": {},
   "outputs": [],
   "source": [
    "import pandas as pd"
   ]
  },
  {
   "cell_type": "markdown",
   "metadata": {},
   "source": [
    "## **2) Pandas Veri Yapıları**\n",
    "\n",
    "Pandas kütüphanesi iki ana veri yapısı sunar: Seriler (Series) ve Veri Çerçeveleri (DataFrames).\n",
    "Bu seri, indekslerle (varsayılan olarak 0'dan başlar) etiketlenmiş değerler içerir."
   ]
  },
  {
   "cell_type": "markdown",
   "metadata": {},
   "source": [
    "### **2.1 Seriler (Series):**\n",
    "\n",
    "* Pandas'ta Series veri yapısı, tek boyutlu, indekslenmiş ve değiştirilemeyen (immutable) veri dizilerini temsil eder. Her bir eleman, bir indeksle ilişkilendirilmiştir. Örneğin Bu seri, indekslerle (varsayılan olarak 0'dan başlar) etiketlenmiş değerler içerir:\n",
    "\n",
    "**Pandas Series Yapısı Özellikleri:**\n",
    "\n",
    "1) **Tek Boyutlu Veri Yapısı:** Pandas Series, yalnızca tek bir boyutta veri saklar.\n",
    "\n",
    "2) **Indekslenmiş Veriler:** Her eleman, bir indeksle eşleştirilmiştir. Önceden tanımlı veya özel bir indeks kullanılabilir.\n",
    "\n",
    "3) **Homojen Veri Tipleri:** Series, herhangi bir veri tipinde veri saklayabilir. Örneğin, tam sayılar, kayan nokta sayıları, dizeler veya diğer Python veri tipleri olabilir.\n",
    "\n",
    "4) **Değiştirilemeyen (Immutable):** Bir Series oluşturulduktan sonra, içeriği değiştirilemez. Ancak yeni bir Series oluşturularak değişiklik yapılabilir."
   ]
  },
  {
   "cell_type": "code",
   "execution_count": 281,
   "metadata": {},
   "outputs": [
    {
     "name": "stdout",
     "output_type": "stream",
     "text": [
      "0    10\n",
      "1    20\n",
      "2    30\n",
      "3    40\n",
      "4    50\n",
      "dtype: int64\n"
     ]
    }
   ],
   "source": [
    "seri = pd.Series([10, 20, 30, 40, 50])\n",
    "print(seri)"
   ]
  },
  {
   "cell_type": "markdown",
   "metadata": {},
   "source": [
    "**Pandas Series Yapısı Özellikleri:**\n",
    "\n",
    "1) **Tek Boyutlu Veri Yapısı:** Pandas Series, yalnızca tek bir boyutta veri saklar.\n",
    "\n",
    "2) **Indekslenmiş Veriler:** Her eleman, bir indeksle eşleştirilmiştir. Önceden tanımlı veya özel bir indeks kullanılabilir.\n",
    "\n",
    "3) **Homojen Veri Tipleri:** Series, herhangi bir veri tipinde veri saklayabilir. Örneğin, tam sayılar, kayan nokta sayıları, dizeler veya diğer Python veri tipleri olabilir.\n",
    "\n",
    "4) **Değiştirilemeyen (Immutable):** Bir Series oluşturulduktan sonra, içeriği değiştirilemez. Ancak yeni bir Series oluşturularak değişiklik yapılabilir."
   ]
  },
  {
   "cell_type": "markdown",
   "metadata": {},
   "source": [
    "#### **2.1.1 Seri Oluşturma**\n",
    "\n",
    "* Pandas serileri, çeşitli veri tiplerinden oluşturulabilir."
   ]
  },
  {
   "cell_type": "markdown",
   "metadata": {},
   "source": [
    "##### **Listelerden Seri Oluşturma**"
   ]
  },
  {
   "cell_type": "code",
   "execution_count": 282,
   "metadata": {},
   "outputs": [
    {
     "name": "stdout",
     "output_type": "stream",
     "text": [
      "0    1\n",
      "1    2\n",
      "2    3\n",
      "3    4\n",
      "4    5\n",
      "dtype: int64\n"
     ]
    }
   ],
   "source": [
    "import pandas as pd\n",
    "\n",
    "data = [1, 2, 3, 4, 5]\n",
    "seri = pd.Series(data)\n",
    "print(seri)"
   ]
  },
  {
   "cell_type": "markdown",
   "metadata": {},
   "source": [
    "##### **NumPy Dizilerinden Seri Oluşturma**"
   ]
  },
  {
   "cell_type": "code",
   "execution_count": 283,
   "metadata": {},
   "outputs": [
    {
     "name": "stdout",
     "output_type": "stream",
     "text": [
      "0    1\n",
      "1    2\n",
      "2    3\n",
      "3    4\n",
      "4    5\n",
      "dtype: int32\n"
     ]
    }
   ],
   "source": [
    "import pandas as pd\n",
    "import numpy as np\n",
    "\n",
    "data = np.array([1, 2, 3, 4, 5])\n",
    "seri = pd.Series(data)\n",
    "print(seri)"
   ]
  },
  {
   "cell_type": "markdown",
   "metadata": {},
   "source": [
    "#### **2.1.2 Seri İndeksleme ve Dilimleme**\n",
    "\n",
    "* Pandas serileri, indeksleme ve dilimleme işlemleri için kullanılabilir."
   ]
  },
  {
   "cell_type": "code",
   "execution_count": 284,
   "metadata": {},
   "outputs": [
    {
     "name": "stdout",
     "output_type": "stream",
     "text": [
      "1 \n",
      "\n",
      "1    2\n",
      "2    3\n",
      "dtype: int32 \n",
      "\n",
      "0    1\n",
      "1    2\n",
      "2    3\n",
      "dtype: int32 \n",
      "\n",
      "3    4\n",
      "4    5\n",
      "dtype: int32 \n",
      "\n"
     ]
    }
   ],
   "source": [
    "print(seri[0], \"\\n\")  # İlk eleman\n",
    "print(seri[1:3], \"\\n\")  # 1. ve 2. elemanlar\n",
    "\n",
    "# Dilimleme\n",
    "print(seri[:3], \"\\n\")  # İlk 3 eleman\n",
    "print(seri[-2:], \"\\n\")  # Son 2 eleman"
   ]
  },
  {
   "cell_type": "markdown",
   "metadata": {},
   "source": [
    "#### **2.1.3 Seri Özellikleri ve Metodları**\n",
    "\n",
    "* Pandas serileri, çeşitli özelliklere ve metodlara sahiptir."
   ]
  },
  {
   "cell_type": "code",
   "execution_count": 285,
   "metadata": {},
   "outputs": [
    {
     "name": "stdout",
     "output_type": "stream",
     "text": [
      "5 \n",
      "\n",
      "RangeIndex(start=0, stop=5, step=1) \n",
      "\n",
      "[1 2 3 4 5] \n",
      "\n",
      "count    5.000000\n",
      "mean     3.000000\n",
      "std      1.581139\n",
      "min      1.000000\n",
      "25%      2.000000\n",
      "50%      3.000000\n",
      "75%      4.000000\n",
      "max      5.000000\n",
      "dtype: float64 \n",
      "\n"
     ]
    }
   ],
   "source": [
    "# Serinin boyutu\n",
    "print(seri.size, \"\\n\")\n",
    "\n",
    "# Serinin indeksleri\n",
    "print(seri.index, \"\\n\")\n",
    "\n",
    "# Serinin değerleri\n",
    "print(seri.values, \"\\n\")\n",
    "\n",
    "# Serinin istatistiksel özetleri\n",
    "print(seri.describe(), \"\\n\")"
   ]
  },
  {
   "cell_type": "markdown",
   "metadata": {},
   "source": [
    "### **2.2 DataFrames (Veri Çerçeveleri):**\n",
    "\n",
    "* DataFrame, Pandas kütüphanesindeki temel veri yapısıdır ve tablo benzeri bir iki boyutlu veri yapısını temsil eder. Veriler, farklı veri tipleri içerebilen sütunlar halinde düzenlenmiştir. DataFrame, verileri etiketli bir şekilde saklamak, işlemek ve analiz etmek için kullanılır. Pandas, Python'da veri analizi ve manipülasyonu için oldukça popüler bir kütüphanedir ve DataFrame, Pandas'ın bu popülerliğinde önemli bir rol oynamaktadır.\n",
    "\n",
    "DataFrame'in temel özellikleri şunlardır:\n",
    "\n",
    "1) **İki Boyutlu Yapı:** DataFrame, satırlar ve sütunlar şeklinde iki boyutlu bir yapıya sahiptir. Satırlar genellikle gözlemleri (örnekleri) temsil ederken, sütunlar değişkenleri (özellikleri) temsil eder.\n",
    "\n",
    "2) **İndeksleme:** DataFrame'in satırları, indeks adı verilen bir etiketle belirlenir. Bu indeks, her bir gözlemin benzersiz bir tanımlayıcısını sağlar.\n",
    "\n",
    "3) **Farklı Veri Tipleri:** Her bir sütun farklı veri tiplerini içerebilir. Örneğin, bir sütun sayısal değerleri içerebilirken, diğer bir sütun metinsel değerleri içerebilir.\n",
    "\n",
    "4) **Esnek Boyutlar:** DataFrame'ler, değişken sayısını ve gözlem sayısını dinamik olarak yönetebilir. Yani, DataFrame boyutları veri ekledikçe veya çıkardıkça otomatik olarak genişleyebilir veya küçülebilir.\n",
    "\n",
    "5) **Veri Manipülasyonu:** Pandas DataFrame, veri analizi, filtreleme, gruplama, birleştirme ve dönüşüm gibi çeşitli işlemleri kolayca gerçekleştirmenizi sağlayan geniş bir metod koleksiyonuna sahiptir.\n",
    "\n",
    "---"
   ]
  },
  {
   "cell_type": "markdown",
   "metadata": {},
   "source": [
    "#### **2.2.1 Veri Çerçevesi Oluşturma**\n",
    "\n",
    "* Pandas veri çerçeveleri, farklı veri kaynaklarından oluşturulabilir."
   ]
  },
  {
   "cell_type": "markdown",
   "metadata": {},
   "source": [
    "##### **Sözlükten DAtaFrame Oluşturma**"
   ]
  },
  {
   "cell_type": "code",
   "execution_count": 286,
   "metadata": {},
   "outputs": [
    {
     "name": "stdout",
     "output_type": "stream",
     "text": [
      "    Name  Age\n",
      "0   John   28\n",
      "1   Anna   25\n",
      "2  Peter   32\n",
      "3  Linda   35\n"
     ]
    }
   ],
   "source": [
    "import pandas as pd\n",
    "\n",
    "data = {'Name': ['John', 'Anna', 'Peter', 'Linda'],\n",
    "        'Age': [28, 25, 32, 35]}\n",
    "df = pd.DataFrame(data)\n",
    "print(df)"
   ]
  },
  {
   "cell_type": "markdown",
   "metadata": {},
   "source": [
    "##### **NumPy Dizisinden DataFrame Oluşturma**"
   ]
  },
  {
   "cell_type": "code",
   "execution_count": 287,
   "metadata": {},
   "outputs": [
    {
     "name": "stdout",
     "output_type": "stream",
     "text": [
      "   A  B  C\n",
      "0  1  2  3\n",
      "1  4  5  6\n",
      "2  7  8  9\n"
     ]
    }
   ],
   "source": [
    "import pandas as pd\n",
    "import numpy as np\n",
    "\n",
    "data = np.array([[1, 2, 3], [4, 5, 6], [7, 8, 9]])\n",
    "df = pd.DataFrame(data, columns=['A', 'B', 'C'])\n",
    "print(df)"
   ]
  },
  {
   "cell_type": "markdown",
   "metadata": {},
   "source": [
    "#### **2.2.2 DataFrame İndeksleme ve Dilimleme**\n",
    "\n",
    "* Veri çerçeveleri, satırları ve sütunları indekslemek ve dilimlemek için kullanılabilir."
   ]
  },
  {
   "cell_type": "code",
   "execution_count": 288,
   "metadata": {},
   "outputs": [
    {
     "name": "stdout",
     "output_type": "stream",
     "text": [
      "     Name\n",
      "0   Ahmet\n",
      "1    Ayşe\n",
      "2  Mehmet\n",
      "3   Fatma\n",
      "4     Ali \n",
      "\n",
      "0     Ahmet\n",
      "1      Ayşe\n",
      "2    Mehmet\n",
      "3     Fatma\n",
      "4       Ali\n",
      "Name: Name, dtype: object \n",
      "\n",
      "Name    Ahmet\n",
      "Name: 0, dtype: object \n",
      "\n",
      "Ahmet \n",
      "\n",
      "     Name\n",
      "1    Ayşe\n",
      "2  Mehmet\n"
     ]
    }
   ],
   "source": [
    "import pandas as pd\n",
    "\n",
    "# Örnek bir veri listesi\n",
    "data = {'Name': ['Ahmet', 'Ayşe', 'Mehmet', 'Fatma', 'Ali']}\n",
    "\n",
    "# DataFrame oluşturma\n",
    "df = pd.DataFrame(data)\n",
    "\n",
    "# DataFrame'i görüntüleme\n",
    "print(df, \"\\n\")\n",
    "\n",
    "\n",
    "# Sütun seçme\n",
    "print(df['Name'], \"\\n\")\n",
    "\n",
    "# Satır seçme\n",
    "print(df.loc[0], \"\\n\")\n",
    "\n",
    "# Belirli bir hücreye erişme\n",
    "print(df.at[0, 'Name'], \"\\n\")\n",
    "\n",
    "# Dilimleme\n",
    "print(df.iloc[1:3, :])"
   ]
  },
  {
   "cell_type": "markdown",
   "metadata": {},
   "source": [
    "#### **2.2.3 DataFrame Özellikleri ve Metodları**\n",
    "\n",
    "* Pandas veri çerçeveleri, çeşitli özelliklere ve metodlara sahiptir."
   ]
  },
  {
   "cell_type": "code",
   "execution_count": 289,
   "metadata": {},
   "outputs": [
    {
     "name": "stdout",
     "output_type": "stream",
     "text": [
      "(5, 1) \n",
      "\n",
      "RangeIndex(start=0, stop=5, step=1) \n",
      "\n",
      "Index(['Name'], dtype='object') \n",
      "\n",
      "     Name\n",
      "0   Ahmet\n",
      "1    Ayşe\n",
      "2  Mehmet\n",
      "3   Fatma\n",
      "4     Ali \n",
      "\n",
      "     Name\n",
      "0   Ahmet\n",
      "1    Ayşe\n",
      "2  Mehmet\n",
      "3   Fatma\n",
      "4     Ali\n"
     ]
    }
   ],
   "source": [
    "# Veri çerçevesinin boyutu\n",
    "print(df.shape, \"\\n\")\n",
    "\n",
    "# Veri çerçevesinin indeksleri\n",
    "print(df.index, \"\\n\")\n",
    "\n",
    "# Veri çerçevesinin sütunları\n",
    "print(df.columns, \"\\n\")\n",
    "\n",
    "# İlk n satırı görüntüleme\n",
    "print(df.head(), \"\\n\")\n",
    "\n",
    "# Son n satırı görüntüleme\n",
    "print(df.tail())"
   ]
  },
  {
   "cell_type": "code",
   "execution_count": 290,
   "metadata": {},
   "outputs": [
    {
     "name": "stdout",
     "output_type": "stream",
     "text": [
      "    Name  Age      City\n",
      "0    Ali   25  İstanbul\n",
      "1   Veli   30    Ankara\n",
      "2   Ayşe   35     İzmir\n",
      "3  Fatma   40     Bursa\n"
     ]
    }
   ],
   "source": [
    "# Sözlük üzerinden bir Veri Çerçevesi oluşturma\n",
    "data = {'Name': ['Ali', 'Veli', 'Ayşe', 'Fatma'],\n",
    "        'Age': [25, 30, 35, 40],\n",
    "        'City': ['İstanbul', 'Ankara', 'İzmir', 'Bursa']}\n",
    "\n",
    "df = pd.DataFrame(data)\n",
    "print(df)"
   ]
  },
  {
   "cell_type": "markdown",
   "metadata": {},
   "source": [
    "## **3) Veri Okuma ve Yazma**\n",
    "\n",
    "Pandas, çeşitli dosya formatlarından veri yüklemek için kullanılabilir. En yaygın kullanılanlar arasında CSV, Excel, SQL ve JSON bulunur.\n",
    "\n",
    "---"
   ]
  },
  {
   "cell_type": "markdown",
   "metadata": {},
   "source": [
    "### **CSV Dosyalarından Veri Okuma**\n",
    "\n",
    "* CSV (Comma Separated Values - Virgülle Ayrılmış Değerler) dosyaları, tablo biçimindeki verileri depolamak için yaygın olarak kullanılır. Pandas, `read_csv()` fonksiyonuyla CSV dosyalarını okuyabilir.\n",
    "\n",
    "```python\n",
    "# CSV dosyasından veri okuma\n",
    "df = pd.read_csv('veri.csv')\n",
    "print(df)\n",
    "```\n",
    "\n",
    "Burada `veri.csv` dosyası, mevcut çalışma dizininizde bulunmalıdır.\n",
    "\n",
    "---"
   ]
  },
  {
   "cell_type": "markdown",
   "metadata": {},
   "source": [
    "### **Excel Dosyalarından Veri Okuma**\n",
    "\n",
    "* Excel dosyaları, sıkça kullanılan bir veri depolama formatıdır. Pandas, `read_excel()` fonksiyonuyla Excel dosyalarını okuyabilir.\n",
    "\n",
    "```python\n",
    "# Excel dosyasından veri okuma\n",
    "df = pd.read_excel('veri.xlsx', sheet_name='Sheet1')\n",
    "print(df)\n",
    "```\n",
    "\n",
    "Bu komut, 'veri.xlsx' Excel dosyasındaki 'Sheet1' sayfasındaki veriyi okur.\n",
    "\n",
    "---"
   ]
  },
  {
   "cell_type": "code",
   "execution_count": 291,
   "metadata": {},
   "outputs": [],
   "source": [
    "import pandas as pd\n",
    "\n",
    "df = pd.read_excel('C:/Users/Yusuf Altuntaş/Desktop/repolarim/pandas-tutorial/pandas-tutorial/temelozet.xlsx')"
   ]
  },
  {
   "cell_type": "markdown",
   "metadata": {},
   "source": [
    "### **Veri Çerçevesini CSV ve Excel Formatlarında Kaydetme**\n",
    "\n",
    "* Pandas, veri çerçevesini CSV ve Excel formatlarında kaydetmek için `to_csv()` ve `to_excel()` metodlarını sağlar.\n",
    "\n",
    "```python\n",
    "import pandas as pd\n",
    "\n",
    "# Veri çerçevesini CSV olarak kaydetme\n",
    "df.to_csv('veri_yeni.csv', index=False)\n",
    "\n",
    "# Veri çerçevesini Excel olarak kaydetme\n",
    "df.to_excel('veri_yeni.xlsx', index=False)\n",
    "```\n",
    "\n",
    "---"
   ]
  },
  {
   "cell_type": "markdown",
   "metadata": {},
   "source": [
    "Şimdi gerçek bir veri seti üzerinde işlemleri yapalım"
   ]
  },
  {
   "cell_type": "markdown",
   "metadata": {},
   "source": [
    "## **4) Veri Kontrolü**\n",
    "\n",
    "Veri kontrolü, veri kümesinin yapısını anlamak için önemlidir. Başlangıçta veya sonunda bulunan veri örneklerini görüntülemek için `head()` ve `tail()` fonksiyonları kullanılır."
   ]
  },
  {
   "cell_type": "markdown",
   "metadata": {},
   "source": [
    "### **İlk ve Son Gözlemleri Görüntüleme:**"
   ]
  },
  {
   "cell_type": "code",
   "execution_count": 292,
   "metadata": {},
   "outputs": [
    {
     "data": {
      "text/html": [
       "<div>\n",
       "<style scoped>\n",
       "    .dataframe tbody tr th:only-of-type {\n",
       "        vertical-align: middle;\n",
       "    }\n",
       "\n",
       "    .dataframe tbody tr th {\n",
       "        vertical-align: top;\n",
       "    }\n",
       "\n",
       "    .dataframe thead th {\n",
       "        text-align: right;\n",
       "    }\n",
       "</style>\n",
       "<table border=\"1\" class=\"dataframe\">\n",
       "  <thead>\n",
       "    <tr style=\"text-align: right;\">\n",
       "      <th></th>\n",
       "      <th>Kod</th>\n",
       "      <th>Hisse Adı</th>\n",
       "      <th>Sektör</th>\n",
       "      <th>Kapanış(TL)</th>\n",
       "      <th>Piyasa Değeri(mn TL)</th>\n",
       "      <th>Piyasa Değeri(mn $)</th>\n",
       "      <th>Halka AçıklıkOranı (%)</th>\n",
       "      <th>Sermaye(mn TL)</th>\n",
       "    </tr>\n",
       "  </thead>\n",
       "  <tbody>\n",
       "    <tr>\n",
       "      <th>0</th>\n",
       "      <td>A1CAP</td>\n",
       "      <td>A1 Capital</td>\n",
       "      <td>Aracı Kurumlar</td>\n",
       "      <td>26.80</td>\n",
       "      <td>3618.0</td>\n",
       "      <td>138.7</td>\n",
       "      <td>25.9</td>\n",
       "      <td>135.0</td>\n",
       "    </tr>\n",
       "    <tr>\n",
       "      <th>1</th>\n",
       "      <td>ACSEL</td>\n",
       "      <td>Acıselsan Acıpayam Selüloz</td>\n",
       "      <td>Kimyasal Ürün</td>\n",
       "      <td>84.25</td>\n",
       "      <td>903.3</td>\n",
       "      <td>34.6</td>\n",
       "      <td>51.8</td>\n",
       "      <td>10.7</td>\n",
       "    </tr>\n",
       "    <tr>\n",
       "      <th>2</th>\n",
       "      <td>ADEL</td>\n",
       "      <td>Adel Kalemcilik</td>\n",
       "      <td>Kırtasiye</td>\n",
       "      <td>245.00</td>\n",
       "      <td>5788.1</td>\n",
       "      <td>221.8</td>\n",
       "      <td>27.7</td>\n",
       "      <td>23.6</td>\n",
       "    </tr>\n",
       "    <tr>\n",
       "      <th>3</th>\n",
       "      <td>ADESE</td>\n",
       "      <td>Adese AVM</td>\n",
       "      <td>Perakande - Ticaret</td>\n",
       "      <td>1.62</td>\n",
       "      <td>1633.0</td>\n",
       "      <td>62.6</td>\n",
       "      <td>92.9</td>\n",
       "      <td>1008.0</td>\n",
       "    </tr>\n",
       "    <tr>\n",
       "      <th>4</th>\n",
       "      <td>AEFES</td>\n",
       "      <td>Anadolu Efes</td>\n",
       "      <td>Meşrubat / İçecek</td>\n",
       "      <td>70.85</td>\n",
       "      <td>41950.7</td>\n",
       "      <td>1607.8</td>\n",
       "      <td>32.9</td>\n",
       "      <td>592.1</td>\n",
       "    </tr>\n",
       "  </tbody>\n",
       "</table>\n",
       "</div>"
      ],
      "text/plain": [
       "     Kod                   Hisse Adı               Sektör  Kapanış(TL)  \\\n",
       "0  A1CAP                  A1 Capital       Aracı Kurumlar        26.80   \n",
       "1  ACSEL  Acıselsan Acıpayam Selüloz        Kimyasal Ürün        84.25   \n",
       "2   ADEL             Adel Kalemcilik            Kırtasiye       245.00   \n",
       "3  ADESE                   Adese AVM  Perakande - Ticaret         1.62   \n",
       "4  AEFES                Anadolu Efes    Meşrubat / İçecek        70.85   \n",
       "\n",
       "   Piyasa Değeri(mn TL)  Piyasa Değeri(mn $)  Halka AçıklıkOranı (%)  \\\n",
       "0                3618.0                138.7                    25.9   \n",
       "1                 903.3                 34.6                    51.8   \n",
       "2                5788.1                221.8                    27.7   \n",
       "3                1633.0                 62.6                    92.9   \n",
       "4               41950.7               1607.8                    32.9   \n",
       "\n",
       "   Sermaye(mn TL)  \n",
       "0           135.0  \n",
       "1            10.7  \n",
       "2            23.6  \n",
       "3          1008.0  \n",
       "4           592.1  "
      ]
     },
     "execution_count": 292,
     "metadata": {},
     "output_type": "execute_result"
    }
   ],
   "source": [
    "# İlk 5 gözlemi görüntüleme\n",
    "df.head()"
   ]
  },
  {
   "cell_type": "code",
   "execution_count": 293,
   "metadata": {},
   "outputs": [
    {
     "data": {
      "text/html": [
       "<div>\n",
       "<style scoped>\n",
       "    .dataframe tbody tr th:only-of-type {\n",
       "        vertical-align: middle;\n",
       "    }\n",
       "\n",
       "    .dataframe tbody tr th {\n",
       "        vertical-align: top;\n",
       "    }\n",
       "\n",
       "    .dataframe thead th {\n",
       "        text-align: right;\n",
       "    }\n",
       "</style>\n",
       "<table border=\"1\" class=\"dataframe\">\n",
       "  <thead>\n",
       "    <tr style=\"text-align: right;\">\n",
       "      <th></th>\n",
       "      <th>Kod</th>\n",
       "      <th>Hisse Adı</th>\n",
       "      <th>Sektör</th>\n",
       "      <th>Kapanış(TL)</th>\n",
       "      <th>Piyasa Değeri(mn TL)</th>\n",
       "      <th>Piyasa Değeri(mn $)</th>\n",
       "      <th>Halka AçıklıkOranı (%)</th>\n",
       "      <th>Sermaye(mn TL)</th>\n",
       "    </tr>\n",
       "  </thead>\n",
       "  <tbody>\n",
       "    <tr>\n",
       "      <th>504</th>\n",
       "      <td>YYAPI</td>\n",
       "      <td>Yesil Yapi</td>\n",
       "      <td>İnşaat- Taahhüt</td>\n",
       "      <td>2.72</td>\n",
       "      <td>875.0</td>\n",
       "      <td>33.5</td>\n",
       "      <td>72.2</td>\n",
       "      <td>321.7</td>\n",
       "    </tr>\n",
       "    <tr>\n",
       "      <th>505</th>\n",
       "      <td>YYLGD</td>\n",
       "      <td>Yayla Agro Gıda</td>\n",
       "      <td>Gıda</td>\n",
       "      <td>31.32</td>\n",
       "      <td>14801.8</td>\n",
       "      <td>567.3</td>\n",
       "      <td>15.0</td>\n",
       "      <td>472.6</td>\n",
       "    </tr>\n",
       "    <tr>\n",
       "      <th>506</th>\n",
       "      <td>ZEDUR</td>\n",
       "      <td>Zedur Enerji</td>\n",
       "      <td>Elektrik</td>\n",
       "      <td>49.80</td>\n",
       "      <td>1245.0</td>\n",
       "      <td>47.7</td>\n",
       "      <td>38.6</td>\n",
       "      <td>25.0</td>\n",
       "    </tr>\n",
       "    <tr>\n",
       "      <th>507</th>\n",
       "      <td>ZOREN</td>\n",
       "      <td>Zorlu Enerji</td>\n",
       "      <td>Elektrik</td>\n",
       "      <td>3.50</td>\n",
       "      <td>17500.0</td>\n",
       "      <td>670.7</td>\n",
       "      <td>30.0</td>\n",
       "      <td>5000.0</td>\n",
       "    </tr>\n",
       "    <tr>\n",
       "      <th>508</th>\n",
       "      <td>ZRGYO</td>\n",
       "      <td>Ziraat GYO</td>\n",
       "      <td>GYO</td>\n",
       "      <td>4.67</td>\n",
       "      <td>21919.2</td>\n",
       "      <td>840.1</td>\n",
       "      <td>18.9</td>\n",
       "      <td>4693.6</td>\n",
       "    </tr>\n",
       "  </tbody>\n",
       "</table>\n",
       "</div>"
      ],
      "text/plain": [
       "       Kod        Hisse Adı           Sektör  Kapanış(TL)  \\\n",
       "504  YYAPI       Yesil Yapi  İnşaat- Taahhüt         2.72   \n",
       "505  YYLGD  Yayla Agro Gıda             Gıda        31.32   \n",
       "506  ZEDUR     Zedur Enerji         Elektrik        49.80   \n",
       "507  ZOREN     Zorlu Enerji         Elektrik         3.50   \n",
       "508  ZRGYO       Ziraat GYO              GYO         4.67   \n",
       "\n",
       "     Piyasa Değeri(mn TL)  Piyasa Değeri(mn $)  Halka AçıklıkOranı (%)  \\\n",
       "504                 875.0                 33.5                    72.2   \n",
       "505               14801.8                567.3                    15.0   \n",
       "506                1245.0                 47.7                    38.6   \n",
       "507               17500.0                670.7                    30.0   \n",
       "508               21919.2                840.1                    18.9   \n",
       "\n",
       "     Sermaye(mn TL)  \n",
       "504           321.7  \n",
       "505           472.6  \n",
       "506            25.0  \n",
       "507          5000.0  \n",
       "508          4693.6  "
      ]
     },
     "execution_count": 293,
     "metadata": {},
     "output_type": "execute_result"
    }
   ],
   "source": [
    "# Son 5 satırı gösterme\n",
    "df.tail()"
   ]
  },
  {
   "cell_type": "markdown",
   "metadata": {},
   "source": [
    "### **Satır ve Sütun Sayısı Bilgisi Alma: shape**\n",
    "\n",
    "`shape` modülünü kullanarak satır ve  sütun sayısı bilgisini elde ederiz."
   ]
  },
  {
   "cell_type": "code",
   "execution_count": 294,
   "metadata": {},
   "outputs": [
    {
     "data": {
      "text/plain": [
       "(509, 8)"
      ]
     },
     "execution_count": 294,
     "metadata": {},
     "output_type": "execute_result"
    }
   ],
   "source": [
    "df.shape"
   ]
  },
  {
   "cell_type": "markdown",
   "metadata": {},
   "source": [
    "### **Veri Seti Hakkında Detaylı Bilgi Alma: info()**\n",
    "\n",
    "Bu metot, veri setinin hakkında bilgileri  döndürmektedir. Bu bilgilere erişim  için\n",
    "`info()` adını kullanabilirsiniz.\n",
    "\n",
    "Bu fonksiyon, veri çerçevesindeki her sütunun veri tipini, veri tiplerinin sayısal dağılımını, bellek kullanımını, eksik değerleri ve sütunların ve satırların toplamda kaç olduğu bilgisini gösterir."
   ]
  },
  {
   "cell_type": "code",
   "execution_count": 295,
   "metadata": {},
   "outputs": [
    {
     "name": "stdout",
     "output_type": "stream",
     "text": [
      "<class 'pandas.core.frame.DataFrame'>\n",
      "RangeIndex: 509 entries, 0 to 508\n",
      "Data columns (total 8 columns):\n",
      " #   Column                  Non-Null Count  Dtype  \n",
      "---  ------                  --------------  -----  \n",
      " 0   Kod                     509 non-null    object \n",
      " 1   Hisse Adı               509 non-null    object \n",
      " 2   Sektör                  509 non-null    object \n",
      " 3   Kapanış(TL)             509 non-null    float64\n",
      " 4   Piyasa Değeri(mn TL)    509 non-null    float64\n",
      " 5   Piyasa Değeri(mn $)     509 non-null    float64\n",
      " 6   Halka AçıklıkOranı (%)  509 non-null    float64\n",
      " 7   Sermaye(mn TL)          509 non-null    float64\n",
      "dtypes: float64(5), object(3)\n",
      "memory usage: 31.9+ KB\n"
     ]
    }
   ],
   "source": [
    "df.info()"
   ]
  },
  {
   "cell_type": "markdown",
   "metadata": {},
   "source": [
    "### **Sütun ve Satır Gösterimi Ayarları: pd.set_option()**\n",
    "\n",
    "Bu bölümde, pandas kitaplığında  bulunan `pd.set_option()` işlevinin  nasıl kullanılacağı gösterilecektir.\n",
    "\n",
    "* df.head() veya df.tail() ile çalıştırdığımızda sütunların eğer sütun sayısı fazla olsaydı sadece bir kısmını görebilirdik. Veri çerçevesindeki sütunların tamamını görmek isteseydik pd.set_option() ile aşağıdaki ayarı yapabilirdik.\n",
    "\n",
    "```\n",
    "pd.set_option('display.max_columns', None)\n",
    "```\n",
    "\n",
    "None kullanılmasının amacı, display.max_columns seçeneğini sınırlamadan kaldırmaktır.\n",
    "\n",
    "```\n",
    "pd.set_option('display.max_columns', 10)\n",
    "```\n",
    "\n",
    "* bu kodla sütun sayısını 10 ile sınırlandırırdık.\n",
    "\n",
    "Aynı şekilde, satır sayısını da aşağıdaki gibi ayarlayabiliriz.\n",
    "\n",
    "```\n",
    "pd.set_option('display.max_rows', None)\n",
    "```"
   ]
  },
  {
   "cell_type": "markdown",
   "metadata": {},
   "source": [
    "## **5) Satır ve Sütun İşlemleri**"
   ]
  },
  {
   "cell_type": "markdown",
   "metadata": {},
   "source": [
    "### **5.1 Sütunlara Erişme**\n",
    "\n",
    "Pandas veri çerçeveleri, farklı sütunlardaki verilere erişmek için çeşitli yöntemler sağlar."
   ]
  },
  {
   "cell_type": "markdown",
   "metadata": {},
   "source": [
    "#### **5.1.1 Tekil Erişim**\n",
    "\n",
    "Son oluşturduğumuz veri çerçevesinden Sektör sütununa erişmek istediğimizi varsayalım."
   ]
  },
  {
   "cell_type": "code",
   "execution_count": 296,
   "metadata": {},
   "outputs": [
    {
     "data": {
      "text/plain": [
       "0           Aracı Kurumlar\n",
       "1            Kimyasal Ürün\n",
       "2                Kırtasiye\n",
       "3      Perakande - Ticaret\n",
       "4        Meşrubat / İçecek\n",
       "              ...         \n",
       "504        İnşaat- Taahhüt\n",
       "505                   Gıda\n",
       "506               Elektrik\n",
       "507               Elektrik\n",
       "508                    GYO\n",
       "Name: Sektör, Length: 509, dtype: object"
      ]
     },
     "execution_count": 296,
     "metadata": {},
     "output_type": "execute_result"
    }
   ],
   "source": [
    "df[\"Sektör\"]"
   ]
  },
  {
   "cell_type": "markdown",
   "metadata": {},
   "source": [
    "* Aynı sütuna ulaşmanın bir başka yolu ise nokta notasyonunu kullanmaktır."
   ]
  },
  {
   "cell_type": "code",
   "execution_count": 297,
   "metadata": {},
   "outputs": [
    {
     "data": {
      "text/plain": [
       "0           Aracı Kurumlar\n",
       "1            Kimyasal Ürün\n",
       "2                Kırtasiye\n",
       "3      Perakande - Ticaret\n",
       "4        Meşrubat / İçecek\n",
       "              ...         \n",
       "504        İnşaat- Taahhüt\n",
       "505                   Gıda\n",
       "506               Elektrik\n",
       "507               Elektrik\n",
       "508                    GYO\n",
       "Name: Sektör, Length: 509, dtype: object"
      ]
     },
     "execution_count": 297,
     "metadata": {},
     "output_type": "execute_result"
    }
   ],
   "source": [
    "df.Sektör"
   ]
  },
  {
   "cell_type": "markdown",
   "metadata": {},
   "source": [
    "Hangi yöntemi tercih etmeliyiz?\n",
    "\n",
    "* pd_df['Sektör'] ifadesi, DataFrame üzerindeki sütuna doğrudan bir dizi indeksi kullanarak erişim sağlar. Bu yöntem, sütun ismi boşluk veya özel karakterler içerdiğinde veya Python programlama dilinde özel bir kelimeyle çakıştığında daha güvenlidir. Örneğin, eğer sütun ismi sutun ismi veya if gibi bir kelime ise bu ifadeleri kullanarak doğrudan sütuna erişim sağlayabiliriz.\n",
    "\n",
    "* pd_df.Sektör ifadesi ise, nokta notasyonunu kullanarak sütuna erişim sağlar. Bu ifade daha kısa ve daha okunabilir bir yazım şekli sunar. Ancak bazı durumlarda, sütun ismi boşluk veya özel karakterler içeriyorsa veya Python programlama dilinde özel bir kelimeyle çakışıyorsa hata verebilir.\n",
    "\n",
    "Daha önce oluşturduğumuz veri çerçevesine sütunlar ekleyip az önce öğrendiklerimizi pekiştirelim."
   ]
  },
  {
   "cell_type": "markdown",
   "metadata": {},
   "source": [
    "### **5.1.2 Çoklu Erişim**\n",
    "\n",
    "Buraya kadar tek bir sütuna erişimi gördük. Birden fazla sütuna erişmek istediğimizde aşağıdaki ifadeyi kullanıyoruz."
   ]
  },
  {
   "cell_type": "code",
   "execution_count": 298,
   "metadata": {},
   "outputs": [
    {
     "data": {
      "text/html": [
       "<div>\n",
       "<style scoped>\n",
       "    .dataframe tbody tr th:only-of-type {\n",
       "        vertical-align: middle;\n",
       "    }\n",
       "\n",
       "    .dataframe tbody tr th {\n",
       "        vertical-align: top;\n",
       "    }\n",
       "\n",
       "    .dataframe thead th {\n",
       "        text-align: right;\n",
       "    }\n",
       "</style>\n",
       "<table border=\"1\" class=\"dataframe\">\n",
       "  <thead>\n",
       "    <tr style=\"text-align: right;\">\n",
       "      <th></th>\n",
       "      <th>Kod</th>\n",
       "      <th>Hisse Adı</th>\n",
       "    </tr>\n",
       "  </thead>\n",
       "  <tbody>\n",
       "    <tr>\n",
       "      <th>0</th>\n",
       "      <td>A1CAP</td>\n",
       "      <td>A1 Capital</td>\n",
       "    </tr>\n",
       "    <tr>\n",
       "      <th>1</th>\n",
       "      <td>ACSEL</td>\n",
       "      <td>Acıselsan Acıpayam Selüloz</td>\n",
       "    </tr>\n",
       "    <tr>\n",
       "      <th>2</th>\n",
       "      <td>ADEL</td>\n",
       "      <td>Adel Kalemcilik</td>\n",
       "    </tr>\n",
       "    <tr>\n",
       "      <th>3</th>\n",
       "      <td>ADESE</td>\n",
       "      <td>Adese AVM</td>\n",
       "    </tr>\n",
       "    <tr>\n",
       "      <th>4</th>\n",
       "      <td>AEFES</td>\n",
       "      <td>Anadolu Efes</td>\n",
       "    </tr>\n",
       "    <tr>\n",
       "      <th>...</th>\n",
       "      <td>...</td>\n",
       "      <td>...</td>\n",
       "    </tr>\n",
       "    <tr>\n",
       "      <th>504</th>\n",
       "      <td>YYAPI</td>\n",
       "      <td>Yesil Yapi</td>\n",
       "    </tr>\n",
       "    <tr>\n",
       "      <th>505</th>\n",
       "      <td>YYLGD</td>\n",
       "      <td>Yayla Agro Gıda</td>\n",
       "    </tr>\n",
       "    <tr>\n",
       "      <th>506</th>\n",
       "      <td>ZEDUR</td>\n",
       "      <td>Zedur Enerji</td>\n",
       "    </tr>\n",
       "    <tr>\n",
       "      <th>507</th>\n",
       "      <td>ZOREN</td>\n",
       "      <td>Zorlu Enerji</td>\n",
       "    </tr>\n",
       "    <tr>\n",
       "      <th>508</th>\n",
       "      <td>ZRGYO</td>\n",
       "      <td>Ziraat GYO</td>\n",
       "    </tr>\n",
       "  </tbody>\n",
       "</table>\n",
       "<p>509 rows × 2 columns</p>\n",
       "</div>"
      ],
      "text/plain": [
       "       Kod                   Hisse Adı\n",
       "0    A1CAP                  A1 Capital\n",
       "1    ACSEL  Acıselsan Acıpayam Selüloz\n",
       "2     ADEL             Adel Kalemcilik\n",
       "3    ADESE                   Adese AVM\n",
       "4    AEFES                Anadolu Efes\n",
       "..     ...                         ...\n",
       "504  YYAPI                  Yesil Yapi\n",
       "505  YYLGD             Yayla Agro Gıda\n",
       "506  ZEDUR                Zedur Enerji\n",
       "507  ZOREN                Zorlu Enerji\n",
       "508  ZRGYO                  Ziraat GYO\n",
       "\n",
       "[509 rows x 2 columns]"
      ]
     },
     "execution_count": 298,
     "metadata": {},
     "output_type": "execute_result"
    }
   ],
   "source": [
    "df[[\"Kod\", \"Hisse Adı\"]]"
   ]
  },
  {
   "cell_type": "markdown",
   "metadata": {},
   "source": [
    "Yukarıdaki iki duruma dikkat edelim. Birincisi, tek sütuna tek köşeli parantez ([]) ile ulaşırken çoklu sütunlara çift köşeli parantez ([[]]) ile ulaştık. İkincisi, tek sütuna erişirken çıktıyı bir seri olarak alıyorduk ancak çoklu sütunlara erişmek istediğimizde artık bir seri değil bir veri çerçevesi olarak çıktıyı alıyoruz.\n",
    "\n",
    "Son olarak, sütun isimlerinin tamamını görmek istiyorsak aşağıdaki ifadeyi kullanabiliriz."
   ]
  },
  {
   "cell_type": "code",
   "execution_count": 299,
   "metadata": {},
   "outputs": [
    {
     "data": {
      "text/plain": [
       "Index(['Kod', 'Hisse Adı', 'Sektör', 'Kapanış(TL)', 'Piyasa Değeri(mn TL)',\n",
       "       'Piyasa Değeri(mn $)', 'Halka AçıklıkOranı (%)', 'Sermaye(mn TL)'],\n",
       "      dtype='object')"
      ]
     },
     "execution_count": 299,
     "metadata": {},
     "output_type": "execute_result"
    }
   ],
   "source": [
    "df.columns"
   ]
  },
  {
   "cell_type": "markdown",
   "metadata": {},
   "source": [
    "## **5.2 Satırlara Erişme: iloc ve loc**"
   ]
  },
  {
   "cell_type": "markdown",
   "metadata": {},
   "source": [
    "### **5.2.1 iloc()**"
   ]
  },
  {
   "cell_type": "markdown",
   "metadata": {},
   "source": [
    "* iloc, integer location anlamına gelir ve DataFrame veya Series üzerinde konum tabanlı indeksleme yapmamıza olanak tanır. İndeksler sıfırdan başlar ve satır veya sütunları belirlemek için tamsayı indekslerini kullanır. iloc kullanırken satır veya sütunların konumunu belirtmek için köşeli parantez içinde tamsayı indeksleri kullanırız.\n",
    "\n",
    "İlk satıra erişelim"
   ]
  },
  {
   "cell_type": "code",
   "execution_count": 300,
   "metadata": {},
   "outputs": [
    {
     "data": {
      "text/plain": [
       "Kod                                A1CAP\n",
       "Hisse Adı                     A1 Capital\n",
       "Sektör                    Aracı Kurumlar\n",
       "Kapanış(TL)                         26.8\n",
       "Piyasa Değeri(mn TL)              3618.0\n",
       "Piyasa Değeri(mn $)                138.7\n",
       "Halka AçıklıkOranı (%)              25.9\n",
       "Sermaye(mn TL)                     135.0\n",
       "Name: 0, dtype: object"
      ]
     },
     "execution_count": 300,
     "metadata": {},
     "output_type": "execute_result"
    }
   ],
   "source": [
    "df.iloc[0]"
   ]
  },
  {
   "cell_type": "markdown",
   "metadata": {},
   "source": [
    "Tek bir satıra erişebileceğimiz gibi birden fazla satıra da erişebiliriz. Tıpkı çoklu sütuna erişimde olduğu gibi ilerleyeceğiz."
   ]
  },
  {
   "cell_type": "code",
   "execution_count": 301,
   "metadata": {},
   "outputs": [
    {
     "data": {
      "text/html": [
       "<div>\n",
       "<style scoped>\n",
       "    .dataframe tbody tr th:only-of-type {\n",
       "        vertical-align: middle;\n",
       "    }\n",
       "\n",
       "    .dataframe tbody tr th {\n",
       "        vertical-align: top;\n",
       "    }\n",
       "\n",
       "    .dataframe thead th {\n",
       "        text-align: right;\n",
       "    }\n",
       "</style>\n",
       "<table border=\"1\" class=\"dataframe\">\n",
       "  <thead>\n",
       "    <tr style=\"text-align: right;\">\n",
       "      <th></th>\n",
       "      <th>Kod</th>\n",
       "      <th>Hisse Adı</th>\n",
       "      <th>Sektör</th>\n",
       "      <th>Kapanış(TL)</th>\n",
       "      <th>Piyasa Değeri(mn TL)</th>\n",
       "      <th>Piyasa Değeri(mn $)</th>\n",
       "      <th>Halka AçıklıkOranı (%)</th>\n",
       "      <th>Sermaye(mn TL)</th>\n",
       "    </tr>\n",
       "  </thead>\n",
       "  <tbody>\n",
       "    <tr>\n",
       "      <th>0</th>\n",
       "      <td>A1CAP</td>\n",
       "      <td>A1 Capital</td>\n",
       "      <td>Aracı Kurumlar</td>\n",
       "      <td>26.80</td>\n",
       "      <td>3618.0</td>\n",
       "      <td>138.7</td>\n",
       "      <td>25.9</td>\n",
       "      <td>135.0</td>\n",
       "    </tr>\n",
       "    <tr>\n",
       "      <th>1</th>\n",
       "      <td>ACSEL</td>\n",
       "      <td>Acıselsan Acıpayam Selüloz</td>\n",
       "      <td>Kimyasal Ürün</td>\n",
       "      <td>84.25</td>\n",
       "      <td>903.3</td>\n",
       "      <td>34.6</td>\n",
       "      <td>51.8</td>\n",
       "      <td>10.7</td>\n",
       "    </tr>\n",
       "  </tbody>\n",
       "</table>\n",
       "</div>"
      ],
      "text/plain": [
       "     Kod                   Hisse Adı          Sektör  Kapanış(TL)  \\\n",
       "0  A1CAP                  A1 Capital  Aracı Kurumlar        26.80   \n",
       "1  ACSEL  Acıselsan Acıpayam Selüloz   Kimyasal Ürün        84.25   \n",
       "\n",
       "   Piyasa Değeri(mn TL)  Piyasa Değeri(mn $)  Halka AçıklıkOranı (%)  \\\n",
       "0                3618.0                138.7                    25.9   \n",
       "1                 903.3                 34.6                    51.8   \n",
       "\n",
       "   Sermaye(mn TL)  \n",
       "0           135.0  \n",
       "1            10.7  "
      ]
     },
     "execution_count": 301,
     "metadata": {},
     "output_type": "execute_result"
    }
   ],
   "source": [
    "df.iloc[[0,1]]"
   ]
  },
  {
   "cell_type": "markdown",
   "metadata": {},
   "source": [
    "``iloc`` ile sütunlara da erişebiliriz. Örneğin, ilk iki satırın 5. sütununa erişmeye çalışalım."
   ]
  },
  {
   "cell_type": "code",
   "execution_count": 302,
   "metadata": {},
   "outputs": [
    {
     "data": {
      "text/plain": [
       "0    3618.0\n",
       "1     903.3\n",
       "Name: Piyasa Değeri(mn TL), dtype: float64"
      ]
     },
     "execution_count": 302,
     "metadata": {},
     "output_type": "execute_result"
    }
   ],
   "source": [
    "df.iloc[[0,1],4]"
   ]
  },
  {
   "cell_type": "markdown",
   "metadata": {},
   "source": [
    "Çoklu sütunlara da erişebiliriz. Örneğin, 4. ve 5. sütunlara erişelim."
   ]
  },
  {
   "cell_type": "code",
   "execution_count": 303,
   "metadata": {},
   "outputs": [
    {
     "data": {
      "text/html": [
       "<div>\n",
       "<style scoped>\n",
       "    .dataframe tbody tr th:only-of-type {\n",
       "        vertical-align: middle;\n",
       "    }\n",
       "\n",
       "    .dataframe tbody tr th {\n",
       "        vertical-align: top;\n",
       "    }\n",
       "\n",
       "    .dataframe thead th {\n",
       "        text-align: right;\n",
       "    }\n",
       "</style>\n",
       "<table border=\"1\" class=\"dataframe\">\n",
       "  <thead>\n",
       "    <tr style=\"text-align: right;\">\n",
       "      <th></th>\n",
       "      <th>Kapanış(TL)</th>\n",
       "      <th>Piyasa Değeri(mn TL)</th>\n",
       "    </tr>\n",
       "  </thead>\n",
       "  <tbody>\n",
       "    <tr>\n",
       "      <th>0</th>\n",
       "      <td>26.80</td>\n",
       "      <td>3618.0</td>\n",
       "    </tr>\n",
       "    <tr>\n",
       "      <th>1</th>\n",
       "      <td>84.25</td>\n",
       "      <td>903.3</td>\n",
       "    </tr>\n",
       "  </tbody>\n",
       "</table>\n",
       "</div>"
      ],
      "text/plain": [
       "   Kapanış(TL)  Piyasa Değeri(mn TL)\n",
       "0        26.80                3618.0\n",
       "1        84.25                 903.3"
      ]
     },
     "execution_count": 303,
     "metadata": {},
     "output_type": "execute_result"
    }
   ],
   "source": [
    "df.iloc[[0,1], [3,4]]"
   ]
  },
  {
   "cell_type": "markdown",
   "metadata": {},
   "source": [
    "### **5.2.2 loc()**"
   ]
  },
  {
   "cell_type": "markdown",
   "metadata": {},
   "source": [
    "``loc``, label location anlamına gelir ve DataFrame veya Series üzerinde etiket tabanlı indeksleme yapmak için kullanılan bir indeksleme yöntemidir."
   ]
  },
  {
   "cell_type": "markdown",
   "metadata": {},
   "source": [
    "İlk satıra erişelim. Burada 0 etiketine sahip satırı getireceğiz."
   ]
  },
  {
   "cell_type": "code",
   "execution_count": 304,
   "metadata": {},
   "outputs": [
    {
     "data": {
      "text/plain": [
       "Kod                                A1CAP\n",
       "Hisse Adı                     A1 Capital\n",
       "Sektör                    Aracı Kurumlar\n",
       "Kapanış(TL)                         26.8\n",
       "Piyasa Değeri(mn TL)              3618.0\n",
       "Piyasa Değeri(mn $)                138.7\n",
       "Halka AçıklıkOranı (%)              25.9\n",
       "Sermaye(mn TL)                     135.0\n",
       "Name: 0, dtype: object"
      ]
     },
     "execution_count": 304,
     "metadata": {},
     "output_type": "execute_result"
    }
   ],
   "source": [
    "df.loc[0]"
   ]
  },
  {
   "cell_type": "markdown",
   "metadata": {},
   "source": [
    "Tek bir satıra erişebileceğimiz gibi birden fazla satıra da erişebiliriz. Bu defa örnek olarak 0 ve 1 etiketlerine sahip satırları getireceğiz."
   ]
  },
  {
   "cell_type": "code",
   "execution_count": 305,
   "metadata": {},
   "outputs": [
    {
     "data": {
      "text/html": [
       "<div>\n",
       "<style scoped>\n",
       "    .dataframe tbody tr th:only-of-type {\n",
       "        vertical-align: middle;\n",
       "    }\n",
       "\n",
       "    .dataframe tbody tr th {\n",
       "        vertical-align: top;\n",
       "    }\n",
       "\n",
       "    .dataframe thead th {\n",
       "        text-align: right;\n",
       "    }\n",
       "</style>\n",
       "<table border=\"1\" class=\"dataframe\">\n",
       "  <thead>\n",
       "    <tr style=\"text-align: right;\">\n",
       "      <th></th>\n",
       "      <th>Kod</th>\n",
       "      <th>Hisse Adı</th>\n",
       "      <th>Sektör</th>\n",
       "      <th>Kapanış(TL)</th>\n",
       "      <th>Piyasa Değeri(mn TL)</th>\n",
       "      <th>Piyasa Değeri(mn $)</th>\n",
       "      <th>Halka AçıklıkOranı (%)</th>\n",
       "      <th>Sermaye(mn TL)</th>\n",
       "    </tr>\n",
       "  </thead>\n",
       "  <tbody>\n",
       "    <tr>\n",
       "      <th>0</th>\n",
       "      <td>A1CAP</td>\n",
       "      <td>A1 Capital</td>\n",
       "      <td>Aracı Kurumlar</td>\n",
       "      <td>26.80</td>\n",
       "      <td>3618.0</td>\n",
       "      <td>138.7</td>\n",
       "      <td>25.9</td>\n",
       "      <td>135.0</td>\n",
       "    </tr>\n",
       "    <tr>\n",
       "      <th>1</th>\n",
       "      <td>ACSEL</td>\n",
       "      <td>Acıselsan Acıpayam Selüloz</td>\n",
       "      <td>Kimyasal Ürün</td>\n",
       "      <td>84.25</td>\n",
       "      <td>903.3</td>\n",
       "      <td>34.6</td>\n",
       "      <td>51.8</td>\n",
       "      <td>10.7</td>\n",
       "    </tr>\n",
       "  </tbody>\n",
       "</table>\n",
       "</div>"
      ],
      "text/plain": [
       "     Kod                   Hisse Adı          Sektör  Kapanış(TL)  \\\n",
       "0  A1CAP                  A1 Capital  Aracı Kurumlar        26.80   \n",
       "1  ACSEL  Acıselsan Acıpayam Selüloz   Kimyasal Ürün        84.25   \n",
       "\n",
       "   Piyasa Değeri(mn TL)  Piyasa Değeri(mn $)  Halka AçıklıkOranı (%)  \\\n",
       "0                3618.0                138.7                    25.9   \n",
       "1                 903.3                 34.6                    51.8   \n",
       "\n",
       "   Sermaye(mn TL)  \n",
       "0           135.0  \n",
       "1            10.7  "
      ]
     },
     "execution_count": 305,
     "metadata": {},
     "output_type": "execute_result"
    }
   ],
   "source": [
    "df.loc[[0,1]]"
   ]
  },
  {
   "cell_type": "markdown",
   "metadata": {},
   "source": [
    "Buraya kadar yaptıklarımız aslında iloc'ta yaptıklarımıza benziyor ancak biz etiket bazlı ilerliyoruz. Son olarak, son sütuna erişelim."
   ]
  },
  {
   "cell_type": "code",
   "execution_count": 306,
   "metadata": {},
   "outputs": [
    {
     "data": {
      "text/plain": [
       "0    135.0\n",
       "1     10.7\n",
       "Name: Sermaye(mn TL), dtype: float64"
      ]
     },
     "execution_count": 306,
     "metadata": {},
     "output_type": "execute_result"
    }
   ],
   "source": [
    "df.loc[[0,1], 'Sermaye(mn TL)']"
   ]
  },
  {
   "cell_type": "markdown",
   "metadata": {},
   "source": [
    "Çoklu sütunlara da erişebiliriz. Örneğin, aşağıdaki iki sütuna erişelim."
   ]
  },
  {
   "cell_type": "code",
   "execution_count": 307,
   "metadata": {},
   "outputs": [
    {
     "data": {
      "text/html": [
       "<div>\n",
       "<style scoped>\n",
       "    .dataframe tbody tr th:only-of-type {\n",
       "        vertical-align: middle;\n",
       "    }\n",
       "\n",
       "    .dataframe tbody tr th {\n",
       "        vertical-align: top;\n",
       "    }\n",
       "\n",
       "    .dataframe thead th {\n",
       "        text-align: right;\n",
       "    }\n",
       "</style>\n",
       "<table border=\"1\" class=\"dataframe\">\n",
       "  <thead>\n",
       "    <tr style=\"text-align: right;\">\n",
       "      <th></th>\n",
       "      <th>Piyasa Değeri(mn TL)</th>\n",
       "      <th>Piyasa Değeri(mn $)</th>\n",
       "    </tr>\n",
       "  </thead>\n",
       "  <tbody>\n",
       "    <tr>\n",
       "      <th>0</th>\n",
       "      <td>3618.0</td>\n",
       "      <td>138.7</td>\n",
       "    </tr>\n",
       "    <tr>\n",
       "      <th>1</th>\n",
       "      <td>903.3</td>\n",
       "      <td>34.6</td>\n",
       "    </tr>\n",
       "  </tbody>\n",
       "</table>\n",
       "</div>"
      ],
      "text/plain": [
       "   Piyasa Değeri(mn TL)  Piyasa Değeri(mn $)\n",
       "0                3618.0                138.7\n",
       "1                 903.3                 34.6"
      ]
     },
     "execution_count": 307,
     "metadata": {},
     "output_type": "execute_result"
    }
   ],
   "source": [
    "df.loc[[0,1], ['Piyasa Değeri(mn TL)','Piyasa Değeri(mn $)']]"
   ]
  },
  {
   "cell_type": "markdown",
   "metadata": {},
   "source": [
    "### **5.3 Satır ve Sütunlara Erişme: İki Nokta Kullanımı (indexing)**\n",
    "\n",
    "Pandas veri çerçeveleri üzerinde, satır ve sütunlara aynı anda erişmek için \"İki Nokta Kullanımı\" yani \"indexing\" adı verilen bir yöntem bulunmaktadır. Bu yöntem, hem satırları hem de sütunları indeksleyerek belirli bir aralığa erişmeyi sağlar.\n",
    "\n",
    "#### **5.3.1 Belirli Bir Satır Aralığına Erişme**\n",
    "\n",
    "\":\" kullanarak da ilk 5 satıra erişebiliriz. Burada dikkat etmemiz gereken nokta çift parantez yerine tek parantez kullanacak olmamızdır"
   ]
  },
  {
   "cell_type": "code",
   "execution_count": 308,
   "metadata": {},
   "outputs": [
    {
     "data": {
      "text/plain": [
       "0    A1CAP\n",
       "1    ACSEL\n",
       "2     ADEL\n",
       "3    ADESE\n",
       "Name: Kod, dtype: object"
      ]
     },
     "execution_count": 308,
     "metadata": {},
     "output_type": "execute_result"
    }
   ],
   "source": [
    "df.iloc[0:4, 0] # ilk sütundaki 4. indexe kadar olan değerleri yazdırma (4. index dahil değil)"
   ]
  },
  {
   "cell_type": "code",
   "execution_count": 309,
   "metadata": {},
   "outputs": [
    {
     "data": {
      "text/plain": [
       "0    A1CAP\n",
       "1    ACSEL\n",
       "2     ADEL\n",
       "3    ADESE\n",
       "4    AEFES\n",
       "Name: Kod, dtype: object"
      ]
     },
     "execution_count": 309,
     "metadata": {},
     "output_type": "execute_result"
    }
   ],
   "source": [
    "df.loc[0:4, \"Kod\"] # ilk sütundaki ilk 5 indexi yazdırma"
   ]
  },
  {
   "cell_type": "markdown",
   "metadata": {},
   "source": [
    "#### **5.3.2 Belirli Bir Sütun Aralığına Erişme**\n",
    "\n",
    "\"Hisse Adı\" ve \"Piyasa Değeri(mn TL)\" sütunlarının verilerini almak için  aşağıdaki  kod  parçasını kullanırız."
   ]
  },
  {
   "cell_type": "code",
   "execution_count": 310,
   "metadata": {},
   "outputs": [
    {
     "data": {
      "text/html": [
       "<div>\n",
       "<style scoped>\n",
       "    .dataframe tbody tr th:only-of-type {\n",
       "        vertical-align: middle;\n",
       "    }\n",
       "\n",
       "    .dataframe tbody tr th {\n",
       "        vertical-align: top;\n",
       "    }\n",
       "\n",
       "    .dataframe thead th {\n",
       "        text-align: right;\n",
       "    }\n",
       "</style>\n",
       "<table border=\"1\" class=\"dataframe\">\n",
       "  <thead>\n",
       "    <tr style=\"text-align: right;\">\n",
       "      <th></th>\n",
       "      <th>Hisse Adı</th>\n",
       "      <th>Piyasa Değeri(mn TL)</th>\n",
       "    </tr>\n",
       "  </thead>\n",
       "  <tbody>\n",
       "    <tr>\n",
       "      <th>0</th>\n",
       "      <td>A1 Capital</td>\n",
       "      <td>3618.0</td>\n",
       "    </tr>\n",
       "    <tr>\n",
       "      <th>1</th>\n",
       "      <td>Acıselsan Acıpayam Selüloz</td>\n",
       "      <td>903.3</td>\n",
       "    </tr>\n",
       "    <tr>\n",
       "      <th>2</th>\n",
       "      <td>Adel Kalemcilik</td>\n",
       "      <td>5788.1</td>\n",
       "    </tr>\n",
       "    <tr>\n",
       "      <th>3</th>\n",
       "      <td>Adese AVM</td>\n",
       "      <td>1633.0</td>\n",
       "    </tr>\n",
       "    <tr>\n",
       "      <th>4</th>\n",
       "      <td>Anadolu Efes</td>\n",
       "      <td>41950.7</td>\n",
       "    </tr>\n",
       "    <tr>\n",
       "      <th>...</th>\n",
       "      <td>...</td>\n",
       "      <td>...</td>\n",
       "    </tr>\n",
       "    <tr>\n",
       "      <th>504</th>\n",
       "      <td>Yesil Yapi</td>\n",
       "      <td>875.0</td>\n",
       "    </tr>\n",
       "    <tr>\n",
       "      <th>505</th>\n",
       "      <td>Yayla Agro Gıda</td>\n",
       "      <td>14801.8</td>\n",
       "    </tr>\n",
       "    <tr>\n",
       "      <th>506</th>\n",
       "      <td>Zedur Enerji</td>\n",
       "      <td>1245.0</td>\n",
       "    </tr>\n",
       "    <tr>\n",
       "      <th>507</th>\n",
       "      <td>Zorlu Enerji</td>\n",
       "      <td>17500.0</td>\n",
       "    </tr>\n",
       "    <tr>\n",
       "      <th>508</th>\n",
       "      <td>Ziraat GYO</td>\n",
       "      <td>21919.2</td>\n",
       "    </tr>\n",
       "  </tbody>\n",
       "</table>\n",
       "<p>509 rows × 2 columns</p>\n",
       "</div>"
      ],
      "text/plain": [
       "                      Hisse Adı  Piyasa Değeri(mn TL)\n",
       "0                    A1 Capital                3618.0\n",
       "1    Acıselsan Acıpayam Selüloz                 903.3\n",
       "2               Adel Kalemcilik                5788.1\n",
       "3                     Adese AVM                1633.0\n",
       "4                  Anadolu Efes               41950.7\n",
       "..                          ...                   ...\n",
       "504                  Yesil Yapi                 875.0\n",
       "505             Yayla Agro Gıda               14801.8\n",
       "506                Zedur Enerji                1245.0\n",
       "507                Zorlu Enerji               17500.0\n",
       "508                  Ziraat GYO               21919.2\n",
       "\n",
       "[509 rows x 2 columns]"
      ]
     },
     "execution_count": 310,
     "metadata": {},
     "output_type": "execute_result"
    }
   ],
   "source": [
    "df[[\"Hisse Adı\", \"Piyasa Değeri(mn TL)\"]]"
   ]
  },
  {
   "cell_type": "markdown",
   "metadata": {},
   "source": [
    "#### **5.3.3 Belirli Bir Satır ve Sütun Aralığına Erişme**"
   ]
  },
  {
   "cell_type": "markdown",
   "metadata": {},
   "source": [
    "\"loc\" ve \"iloc\" kullanarak aşağıdaki şekilde satır ve sütun aralığı verebiliriz."
   ]
  },
  {
   "cell_type": "code",
   "execution_count": 311,
   "metadata": {},
   "outputs": [
    {
     "data": {
      "text/html": [
       "<div>\n",
       "<style scoped>\n",
       "    .dataframe tbody tr th:only-of-type {\n",
       "        vertical-align: middle;\n",
       "    }\n",
       "\n",
       "    .dataframe tbody tr th {\n",
       "        vertical-align: top;\n",
       "    }\n",
       "\n",
       "    .dataframe thead th {\n",
       "        text-align: right;\n",
       "    }\n",
       "</style>\n",
       "<table border=\"1\" class=\"dataframe\">\n",
       "  <thead>\n",
       "    <tr style=\"text-align: right;\">\n",
       "      <th></th>\n",
       "      <th>Hisse Adı</th>\n",
       "      <th>Sektör</th>\n",
       "      <th>Kapanış(TL)</th>\n",
       "    </tr>\n",
       "  </thead>\n",
       "  <tbody>\n",
       "    <tr>\n",
       "      <th>0</th>\n",
       "      <td>A1 Capital</td>\n",
       "      <td>Aracı Kurumlar</td>\n",
       "      <td>26.80</td>\n",
       "    </tr>\n",
       "    <tr>\n",
       "      <th>1</th>\n",
       "      <td>Acıselsan Acıpayam Selüloz</td>\n",
       "      <td>Kimyasal Ürün</td>\n",
       "      <td>84.25</td>\n",
       "    </tr>\n",
       "    <tr>\n",
       "      <th>2</th>\n",
       "      <td>Adel Kalemcilik</td>\n",
       "      <td>Kırtasiye</td>\n",
       "      <td>245.00</td>\n",
       "    </tr>\n",
       "    <tr>\n",
       "      <th>3</th>\n",
       "      <td>Adese AVM</td>\n",
       "      <td>Perakande - Ticaret</td>\n",
       "      <td>1.62</td>\n",
       "    </tr>\n",
       "    <tr>\n",
       "      <th>4</th>\n",
       "      <td>Anadolu Efes</td>\n",
       "      <td>Meşrubat / İçecek</td>\n",
       "      <td>70.85</td>\n",
       "    </tr>\n",
       "  </tbody>\n",
       "</table>\n",
       "</div>"
      ],
      "text/plain": [
       "                    Hisse Adı               Sektör  Kapanış(TL)\n",
       "0                  A1 Capital       Aracı Kurumlar        26.80\n",
       "1  Acıselsan Acıpayam Selüloz        Kimyasal Ürün        84.25\n",
       "2             Adel Kalemcilik            Kırtasiye       245.00\n",
       "3                   Adese AVM  Perakande - Ticaret         1.62\n",
       "4                Anadolu Efes    Meşrubat / İçecek        70.85"
      ]
     },
     "execution_count": 311,
     "metadata": {},
     "output_type": "execute_result"
    }
   ],
   "source": [
    "df.loc[0:4, \"Hisse Adı\":\"Kapanış(TL)\"]"
   ]
  },
  {
   "cell_type": "code",
   "execution_count": 312,
   "metadata": {},
   "outputs": [
    {
     "data": {
      "text/html": [
       "<div>\n",
       "<style scoped>\n",
       "    .dataframe tbody tr th:only-of-type {\n",
       "        vertical-align: middle;\n",
       "    }\n",
       "\n",
       "    .dataframe tbody tr th {\n",
       "        vertical-align: top;\n",
       "    }\n",
       "\n",
       "    .dataframe thead th {\n",
       "        text-align: right;\n",
       "    }\n",
       "</style>\n",
       "<table border=\"1\" class=\"dataframe\">\n",
       "  <thead>\n",
       "    <tr style=\"text-align: right;\">\n",
       "      <th></th>\n",
       "      <th>Kod</th>\n",
       "      <th>Hisse Adı</th>\n",
       "      <th>Sektör</th>\n",
       "      <th>Kapanış(TL)</th>\n",
       "    </tr>\n",
       "  </thead>\n",
       "  <tbody>\n",
       "    <tr>\n",
       "      <th>0</th>\n",
       "      <td>A1CAP</td>\n",
       "      <td>A1 Capital</td>\n",
       "      <td>Aracı Kurumlar</td>\n",
       "      <td>26.80</td>\n",
       "    </tr>\n",
       "    <tr>\n",
       "      <th>1</th>\n",
       "      <td>ACSEL</td>\n",
       "      <td>Acıselsan Acıpayam Selüloz</td>\n",
       "      <td>Kimyasal Ürün</td>\n",
       "      <td>84.25</td>\n",
       "    </tr>\n",
       "    <tr>\n",
       "      <th>2</th>\n",
       "      <td>ADEL</td>\n",
       "      <td>Adel Kalemcilik</td>\n",
       "      <td>Kırtasiye</td>\n",
       "      <td>245.00</td>\n",
       "    </tr>\n",
       "    <tr>\n",
       "      <th>3</th>\n",
       "      <td>ADESE</td>\n",
       "      <td>Adese AVM</td>\n",
       "      <td>Perakande - Ticaret</td>\n",
       "      <td>1.62</td>\n",
       "    </tr>\n",
       "  </tbody>\n",
       "</table>\n",
       "</div>"
      ],
      "text/plain": [
       "     Kod                   Hisse Adı               Sektör  Kapanış(TL)\n",
       "0  A1CAP                  A1 Capital       Aracı Kurumlar        26.80\n",
       "1  ACSEL  Acıselsan Acıpayam Selüloz        Kimyasal Ürün        84.25\n",
       "2   ADEL             Adel Kalemcilik            Kırtasiye       245.00\n",
       "3  ADESE                   Adese AVM  Perakande - Ticaret         1.62"
      ]
     },
     "execution_count": 312,
     "metadata": {},
     "output_type": "execute_result"
    }
   ],
   "source": [
    "df.iloc[0:4, 0:4]"
   ]
  },
  {
   "cell_type": "markdown",
   "metadata": {},
   "source": [
    "#### **5.3.4 Koşullu Erişim ve Dilimleme**\n",
    "\n",
    "\"Kapanış(TL)\" sütunundaki değeri 100 den büyük olan verilerin \"Kod\" sütunundaki karşılığını ekrana yazdıralım."
   ]
  },
  {
   "cell_type": "code",
   "execution_count": 313,
   "metadata": {},
   "outputs": [
    {
     "data": {
      "text/plain": [
       "2       ADEL\n",
       "7      AGHOL\n",
       "24     ALCAR\n",
       "26     ALFAS\n",
       "36     ARCLK\n",
       "       ...  \n",
       "479    UZERB\n",
       "486    VERUS\n",
       "492    YAPRK\n",
       "495    YBTAS\n",
       "503    YUNSA\n",
       "Name: Kod, Length: 73, dtype: object"
      ]
     },
     "execution_count": 313,
     "metadata": {},
     "output_type": "execute_result"
    }
   ],
   "source": [
    "df[df[\"Kapanış(TL)\"] > 100][\"Kod\"]"
   ]
  },
  {
   "cell_type": "code",
   "execution_count": 314,
   "metadata": {},
   "outputs": [
    {
     "data": {
      "text/plain": [
       "2       ADEL\n",
       "7      AGHOL\n",
       "24     ALCAR\n",
       "26     ALFAS\n",
       "36     ARCLK\n",
       "39     ARMDA\n",
       "44     ASUZU\n",
       "51     AVHOL\n",
       "54     AYCES\n",
       "70     BFREN\n",
       "73     BIMAS\n",
       "89     BRSAN\n",
       "90     BRYAT\n",
       "99     CCOLA\n",
       "104    CIMSA\n",
       "105    CLEBI\n",
       "113    CVKMD\n",
       "114    CWENE\n",
       "132     DOAS\n",
       "134     DOCO\n",
       "142    ECZYT\n",
       "145    EGEEN\n",
       "148    EGPRO\n",
       "161     ERCB\n",
       "183    FROTO\n",
       "207    GUBRF\n",
       "237    INVES\n",
       "256    JANTS\n",
       "265    KCHOL\n",
       "266     KENT\n",
       "278    KMPUR\n",
       "281    KONTR\n",
       "282    KONYA\n",
       "326    MGROS\n",
       "327    MIATK\n",
       "335    MRSHL\n",
       "340    NATEN\n",
       "346    NUHCM\n",
       "355    OTKAR\n",
       "366    PAMEL\n",
       "377    PGSUS\n",
       "380    PKENT\n",
       "385    POLTK\n",
       "393    QNBFL\n",
       "413    SDTTR\n",
       "435    SRVGY\n",
       "440    TAVHL\n",
       "449    THYAO\n",
       "456    TOASO\n",
       "464    TTRAK\n",
       "475    ULUSE\n",
       "486    VERUS\n",
       "495    YBTAS\n",
       "503    YUNSA\n",
       "Name: Kod, dtype: object"
      ]
     },
     "execution_count": 314,
     "metadata": {},
     "output_type": "execute_result"
    }
   ],
   "source": [
    "df[(df[\"Kapanış(TL)\"] > 100) & (df[\"Piyasa Değeri(mn TL)\"] > 3000)][\"Kod\"]"
   ]
  },
  {
   "cell_type": "markdown",
   "metadata": {},
   "source": [
    "* \"Kapanış(TL)\" değeri 100 den büyük ve \"Piyasa Değeri(mn TL)\" 30000 de büyük olan verilerin \"Kod\" sütunundaki karşılıkları."
   ]
  },
  {
   "cell_type": "code",
   "execution_count": 315,
   "metadata": {},
   "outputs": [
    {
     "data": {
      "text/plain": [
       "36     ARCLK\n",
       "73     BIMAS\n",
       "89     BRSAN\n",
       "90     BRYAT\n",
       "99     CCOLA\n",
       "132     DOAS\n",
       "134     DOCO\n",
       "183    FROTO\n",
       "207    GUBRF\n",
       "237    INVES\n",
       "265    KCHOL\n",
       "266     KENT\n",
       "281    KONTR\n",
       "326    MGROS\n",
       "377    PGSUS\n",
       "440    TAVHL\n",
       "449    THYAO\n",
       "456    TOASO\n",
       "464    TTRAK\n",
       "Name: Kod, dtype: object"
      ]
     },
     "execution_count": 315,
     "metadata": {},
     "output_type": "execute_result"
    }
   ],
   "source": [
    "df[(df[\"Kapanış(TL)\"] > 100) & (df[\"Piyasa Değeri(mn TL)\"] > 30000)][\"Kod\"]"
   ]
  },
  {
   "cell_type": "markdown",
   "metadata": {},
   "source": [
    "### **5.4 Sütuna Ait Değerleri Saydırma: value_counts()**\n",
    "\n",
    "Pandas'ın value_counts() yöntemi, bir sütundaki benzersiz değerleri ve her bir değerin kaç kez tekrarlandığını saymak için kullanılır. Bu yöntem, veri setindeki dağılımı anlamak için sıklıkla kullanılır."
   ]
  },
  {
   "cell_type": "markdown",
   "metadata": {},
   "source": [
    "* \"Sektör\" sütununu seçip her bir sektörden kaç adet bulunduğunu hesaplayalım."
   ]
  },
  {
   "cell_type": "code",
   "execution_count": 316,
   "metadata": {},
   "outputs": [
    {
     "data": {
      "text/plain": [
       "Sektör\n",
       "GYO                           41\n",
       "Elektrik                      36\n",
       "Gıda                          33\n",
       "Holdingler                    32\n",
       "Tekstil Entegre               25\n",
       "Teknoloji                     17\n",
       "Turizm                        16\n",
       "İnşaat Malzemeleri            16\n",
       "Kimyasal Ürün                 16\n",
       "Yatırım Ortaklıkları          16\n",
       "Çimento                       15\n",
       "Bankacılık                    15\n",
       "Kağıt Ürünleri                14\n",
       "Perakande - Ticaret           13\n",
       "Sağlık ve İlaç                12\n",
       "Demir-Çelik Temel             12\n",
       "Aracı Kurumlar                11\n",
       "Otomotiv Parçası              10\n",
       "Dayanıklı Tüketim             10\n",
       "Fin.Kiralama ve Faktoring      9\n",
       "Meşrubat / İçecek              9\n",
       "Medya                          8\n",
       "Demir-Çelik Döküm              8\n",
       "Otomotiv                       8\n",
       "Elektrik Makinları Üretimi     7\n",
       "Bilgisayar Toptancılığı        7\n",
       "Ulaştırma-Lojistik             7\n",
       "İnşaat- Taahhüt                6\n",
       "Mobilya                        6\n",
       "Madencilik                     6\n",
       "Sigorta                        6\n",
       "Petrol                         6\n",
       "Diğer                          5\n",
       "Boya                           5\n",
       "Havayolları ve Hizm.           4\n",
       "Seramik                        4\n",
       "Deri Giyim                     4\n",
       "İletişim                       4\n",
       "Spor                           4\n",
       "Tarım Kimyasalları             4\n",
       "Endüstriyel Tekstil            4\n",
       "İletişim Cihazları             3\n",
       "Pazarlama                      3\n",
       "Kırtasiye                      2\n",
       "Otomotiv Lastiği               2\n",
       "Hayvancılık                    2\n",
       "Savunma                        2\n",
       "Kablo                          2\n",
       "Eğlence Hizmetleri             1\n",
       "Cam                            1\n",
       "Name: count, dtype: int64"
      ]
     },
     "execution_count": 316,
     "metadata": {},
     "output_type": "execute_result"
    }
   ],
   "source": [
    "df[\"Sektör\"].value_counts()"
   ]
  },
  {
   "cell_type": "markdown",
   "metadata": {},
   "source": [
    "## **6) İndex İşlemleri**"
   ]
  },
  {
   "cell_type": "code",
   "execution_count": 317,
   "metadata": {},
   "outputs": [],
   "source": [
    "import pandas as pd\n",
    "\n",
    "df = pd.read_excel('C:/Users/Yusuf Altuntaş/Desktop/repolarim/pandas-tutorial/pandas-tutorial/temelozet.xlsx')"
   ]
  },
  {
   "cell_type": "markdown",
   "metadata": {},
   "source": [
    "###  **6.1. İndeks nedir?**"
   ]
  },
  {
   "cell_type": "code",
   "execution_count": 318,
   "metadata": {},
   "outputs": [
    {
     "data": {
      "text/html": [
       "<div>\n",
       "<style scoped>\n",
       "    .dataframe tbody tr th:only-of-type {\n",
       "        vertical-align: middle;\n",
       "    }\n",
       "\n",
       "    .dataframe tbody tr th {\n",
       "        vertical-align: top;\n",
       "    }\n",
       "\n",
       "    .dataframe thead th {\n",
       "        text-align: right;\n",
       "    }\n",
       "</style>\n",
       "<table border=\"1\" class=\"dataframe\">\n",
       "  <thead>\n",
       "    <tr style=\"text-align: right;\">\n",
       "      <th></th>\n",
       "      <th>Kod</th>\n",
       "      <th>Hisse Adı</th>\n",
       "      <th>Sektör</th>\n",
       "      <th>Kapanış(TL)</th>\n",
       "      <th>Piyasa Değeri(mn TL)</th>\n",
       "      <th>Piyasa Değeri(mn $)</th>\n",
       "      <th>Halka AçıklıkOranı (%)</th>\n",
       "      <th>Sermaye(mn TL)</th>\n",
       "    </tr>\n",
       "  </thead>\n",
       "  <tbody>\n",
       "    <tr>\n",
       "      <th>0</th>\n",
       "      <td>A1CAP</td>\n",
       "      <td>A1 Capital</td>\n",
       "      <td>Aracı Kurumlar</td>\n",
       "      <td>26.80</td>\n",
       "      <td>3618.0</td>\n",
       "      <td>138.7</td>\n",
       "      <td>25.9</td>\n",
       "      <td>135.0</td>\n",
       "    </tr>\n",
       "    <tr>\n",
       "      <th>1</th>\n",
       "      <td>ACSEL</td>\n",
       "      <td>Acıselsan Acıpayam Selüloz</td>\n",
       "      <td>Kimyasal Ürün</td>\n",
       "      <td>84.25</td>\n",
       "      <td>903.3</td>\n",
       "      <td>34.6</td>\n",
       "      <td>51.8</td>\n",
       "      <td>10.7</td>\n",
       "    </tr>\n",
       "    <tr>\n",
       "      <th>2</th>\n",
       "      <td>ADEL</td>\n",
       "      <td>Adel Kalemcilik</td>\n",
       "      <td>Kırtasiye</td>\n",
       "      <td>245.00</td>\n",
       "      <td>5788.1</td>\n",
       "      <td>221.8</td>\n",
       "      <td>27.7</td>\n",
       "      <td>23.6</td>\n",
       "    </tr>\n",
       "    <tr>\n",
       "      <th>3</th>\n",
       "      <td>ADESE</td>\n",
       "      <td>Adese AVM</td>\n",
       "      <td>Perakande - Ticaret</td>\n",
       "      <td>1.62</td>\n",
       "      <td>1633.0</td>\n",
       "      <td>62.6</td>\n",
       "      <td>92.9</td>\n",
       "      <td>1008.0</td>\n",
       "    </tr>\n",
       "    <tr>\n",
       "      <th>4</th>\n",
       "      <td>AEFES</td>\n",
       "      <td>Anadolu Efes</td>\n",
       "      <td>Meşrubat / İçecek</td>\n",
       "      <td>70.85</td>\n",
       "      <td>41950.7</td>\n",
       "      <td>1607.8</td>\n",
       "      <td>32.9</td>\n",
       "      <td>592.1</td>\n",
       "    </tr>\n",
       "  </tbody>\n",
       "</table>\n",
       "</div>"
      ],
      "text/plain": [
       "     Kod                   Hisse Adı               Sektör  Kapanış(TL)  \\\n",
       "0  A1CAP                  A1 Capital       Aracı Kurumlar        26.80   \n",
       "1  ACSEL  Acıselsan Acıpayam Selüloz        Kimyasal Ürün        84.25   \n",
       "2   ADEL             Adel Kalemcilik            Kırtasiye       245.00   \n",
       "3  ADESE                   Adese AVM  Perakande - Ticaret         1.62   \n",
       "4  AEFES                Anadolu Efes    Meşrubat / İçecek        70.85   \n",
       "\n",
       "   Piyasa Değeri(mn TL)  Piyasa Değeri(mn $)  Halka AçıklıkOranı (%)  \\\n",
       "0                3618.0                138.7                    25.9   \n",
       "1                 903.3                 34.6                    51.8   \n",
       "2                5788.1                221.8                    27.7   \n",
       "3                1633.0                 62.6                    92.9   \n",
       "4               41950.7               1607.8                    32.9   \n",
       "\n",
       "   Sermaye(mn TL)  \n",
       "0           135.0  \n",
       "1            10.7  \n",
       "2            23.6  \n",
       "3          1008.0  \n",
       "4           592.1  "
      ]
     },
     "execution_count": 318,
     "metadata": {},
     "output_type": "execute_result"
    }
   ],
   "source": [
    "df.head()"
   ]
  },
  {
   "cell_type": "markdown",
   "metadata": {},
   "source": [
    "Sol tarafta bir sütunmuş gibi görünen 0, 1, 2, ... değerleri indekstir. İndeksler, bir numaralandırma veya etiketleme mekanizmasıdır. Örneğin, bir liste içindeki elemanların her biri bir indeks değerine sahiptir ve bu indeksler kullanılarak elemanlara erişebiliriz. Örneğimizdeki veri çerçevesinde indeks, satırları etiketlemek veya numaralandırmak için kullanılır. Varsayılan olarak, veri çerçevesinin indeksi sıfırdan başlayan tam sayılarla oluşturulur. Bununla birlikte, indeksler benzersiz olmak zorunda değildir. Yani aynı indeks değeri birden fazla satıra karşılık gelebilir."
   ]
  },
  {
   "cell_type": "markdown",
   "metadata": {},
   "source": [
    "### **6.2. İndeks Ayarlama: set_index() ve index_col**\n",
    "\n",
    "Pandas'ta, veri çerçevesindeki belirli bir sütunu indeks olarak ayarlamak için ``set_index()`` yöntemi kullanılır. Ayrıca, veri çerçevesini okurken, okunan sütunu indeks olarak belirlemek için ``index_col`` parametresi kullanılır."
   ]
  },
  {
   "cell_type": "markdown",
   "metadata": {},
   "source": [
    "#### **6.2.1 set_index()**\n",
    "\n",
    "``set_index()`` yöntemi, belirtilen sütunu indeks olarak ayarlar. Bu, veri çerçevesindeki satırları bu sütuna göre etiketler. `inplace` parametresini \"True\" olarak ayarlarsak asıl veri seti üzerinde değişiklik yapabiliriz."
   ]
  },
  {
   "cell_type": "markdown",
   "metadata": {},
   "source": [
    "* \"df2\" adlı yeni bir değişken oluşturarak \"Kod\" sütununu index olarak ayarlayalım."
   ]
  },
  {
   "cell_type": "code",
   "execution_count": 319,
   "metadata": {},
   "outputs": [
    {
     "data": {
      "text/html": [
       "<div>\n",
       "<style scoped>\n",
       "    .dataframe tbody tr th:only-of-type {\n",
       "        vertical-align: middle;\n",
       "    }\n",
       "\n",
       "    .dataframe tbody tr th {\n",
       "        vertical-align: top;\n",
       "    }\n",
       "\n",
       "    .dataframe thead th {\n",
       "        text-align: right;\n",
       "    }\n",
       "</style>\n",
       "<table border=\"1\" class=\"dataframe\">\n",
       "  <thead>\n",
       "    <tr style=\"text-align: right;\">\n",
       "      <th></th>\n",
       "      <th>Hisse Adı</th>\n",
       "      <th>Sektör</th>\n",
       "      <th>Kapanış(TL)</th>\n",
       "      <th>Piyasa Değeri(mn TL)</th>\n",
       "      <th>Piyasa Değeri(mn $)</th>\n",
       "      <th>Halka AçıklıkOranı (%)</th>\n",
       "      <th>Sermaye(mn TL)</th>\n",
       "    </tr>\n",
       "    <tr>\n",
       "      <th>Kod</th>\n",
       "      <th></th>\n",
       "      <th></th>\n",
       "      <th></th>\n",
       "      <th></th>\n",
       "      <th></th>\n",
       "      <th></th>\n",
       "      <th></th>\n",
       "    </tr>\n",
       "  </thead>\n",
       "  <tbody>\n",
       "    <tr>\n",
       "      <th>A1CAP</th>\n",
       "      <td>A1 Capital</td>\n",
       "      <td>Aracı Kurumlar</td>\n",
       "      <td>26.80</td>\n",
       "      <td>3618.0</td>\n",
       "      <td>138.7</td>\n",
       "      <td>25.9</td>\n",
       "      <td>135.0</td>\n",
       "    </tr>\n",
       "    <tr>\n",
       "      <th>ACSEL</th>\n",
       "      <td>Acıselsan Acıpayam Selüloz</td>\n",
       "      <td>Kimyasal Ürün</td>\n",
       "      <td>84.25</td>\n",
       "      <td>903.3</td>\n",
       "      <td>34.6</td>\n",
       "      <td>51.8</td>\n",
       "      <td>10.7</td>\n",
       "    </tr>\n",
       "    <tr>\n",
       "      <th>ADEL</th>\n",
       "      <td>Adel Kalemcilik</td>\n",
       "      <td>Kırtasiye</td>\n",
       "      <td>245.00</td>\n",
       "      <td>5788.1</td>\n",
       "      <td>221.8</td>\n",
       "      <td>27.7</td>\n",
       "      <td>23.6</td>\n",
       "    </tr>\n",
       "    <tr>\n",
       "      <th>ADESE</th>\n",
       "      <td>Adese AVM</td>\n",
       "      <td>Perakande - Ticaret</td>\n",
       "      <td>1.62</td>\n",
       "      <td>1633.0</td>\n",
       "      <td>62.6</td>\n",
       "      <td>92.9</td>\n",
       "      <td>1008.0</td>\n",
       "    </tr>\n",
       "    <tr>\n",
       "      <th>AEFES</th>\n",
       "      <td>Anadolu Efes</td>\n",
       "      <td>Meşrubat / İçecek</td>\n",
       "      <td>70.85</td>\n",
       "      <td>41950.7</td>\n",
       "      <td>1607.8</td>\n",
       "      <td>32.9</td>\n",
       "      <td>592.1</td>\n",
       "    </tr>\n",
       "  </tbody>\n",
       "</table>\n",
       "</div>"
      ],
      "text/plain": [
       "                        Hisse Adı               Sektör  Kapanış(TL)  \\\n",
       "Kod                                                                   \n",
       "A1CAP                  A1 Capital       Aracı Kurumlar        26.80   \n",
       "ACSEL  Acıselsan Acıpayam Selüloz        Kimyasal Ürün        84.25   \n",
       "ADEL              Adel Kalemcilik            Kırtasiye       245.00   \n",
       "ADESE                   Adese AVM  Perakande - Ticaret         1.62   \n",
       "AEFES                Anadolu Efes    Meşrubat / İçecek        70.85   \n",
       "\n",
       "       Piyasa Değeri(mn TL)  Piyasa Değeri(mn $)  Halka AçıklıkOranı (%)  \\\n",
       "Kod                                                                        \n",
       "A1CAP                3618.0                138.7                    25.9   \n",
       "ACSEL                 903.3                 34.6                    51.8   \n",
       "ADEL                 5788.1                221.8                    27.7   \n",
       "ADESE                1633.0                 62.6                    92.9   \n",
       "AEFES               41950.7               1607.8                    32.9   \n",
       "\n",
       "       Sermaye(mn TL)  \n",
       "Kod                    \n",
       "A1CAP           135.0  \n",
       "ACSEL            10.7  \n",
       "ADEL             23.6  \n",
       "ADESE          1008.0  \n",
       "AEFES           592.1  "
      ]
     },
     "execution_count": 319,
     "metadata": {},
     "output_type": "execute_result"
    }
   ],
   "source": [
    "df2 = df.set_index(\"Kod\")\n",
    "df2.head()"
   ]
  },
  {
   "cell_type": "markdown",
   "metadata": {},
   "source": [
    "#### **6.2.2 index_col Kullanımı**\n",
    "\n",
    "``index_col`` parametresi, veri çerçevesini okurken belirli bir sütunu indeks olarak belirlemek için kullanılır."
   ]
  },
  {
   "cell_type": "code",
   "execution_count": 320,
   "metadata": {},
   "outputs": [
    {
     "data": {
      "text/html": [
       "<div>\n",
       "<style scoped>\n",
       "    .dataframe tbody tr th:only-of-type {\n",
       "        vertical-align: middle;\n",
       "    }\n",
       "\n",
       "    .dataframe tbody tr th {\n",
       "        vertical-align: top;\n",
       "    }\n",
       "\n",
       "    .dataframe thead th {\n",
       "        text-align: right;\n",
       "    }\n",
       "</style>\n",
       "<table border=\"1\" class=\"dataframe\">\n",
       "  <thead>\n",
       "    <tr style=\"text-align: right;\">\n",
       "      <th></th>\n",
       "      <th>Hisse Adı</th>\n",
       "      <th>Sektör</th>\n",
       "      <th>Kapanış(TL)</th>\n",
       "      <th>Piyasa Değeri(mn TL)</th>\n",
       "      <th>Piyasa Değeri(mn $)</th>\n",
       "      <th>Halka AçıklıkOranı (%)</th>\n",
       "      <th>Sermaye(mn TL)</th>\n",
       "    </tr>\n",
       "    <tr>\n",
       "      <th>Kod</th>\n",
       "      <th></th>\n",
       "      <th></th>\n",
       "      <th></th>\n",
       "      <th></th>\n",
       "      <th></th>\n",
       "      <th></th>\n",
       "      <th></th>\n",
       "    </tr>\n",
       "  </thead>\n",
       "  <tbody>\n",
       "    <tr>\n",
       "      <th>A1CAP</th>\n",
       "      <td>A1 Capital</td>\n",
       "      <td>Aracı Kurumlar</td>\n",
       "      <td>26.80</td>\n",
       "      <td>3618.0</td>\n",
       "      <td>138.7</td>\n",
       "      <td>25.9</td>\n",
       "      <td>135.0</td>\n",
       "    </tr>\n",
       "    <tr>\n",
       "      <th>ACSEL</th>\n",
       "      <td>Acıselsan Acıpayam Selüloz</td>\n",
       "      <td>Kimyasal Ürün</td>\n",
       "      <td>84.25</td>\n",
       "      <td>903.3</td>\n",
       "      <td>34.6</td>\n",
       "      <td>51.8</td>\n",
       "      <td>10.7</td>\n",
       "    </tr>\n",
       "    <tr>\n",
       "      <th>ADEL</th>\n",
       "      <td>Adel Kalemcilik</td>\n",
       "      <td>Kırtasiye</td>\n",
       "      <td>245.00</td>\n",
       "      <td>5788.1</td>\n",
       "      <td>221.8</td>\n",
       "      <td>27.7</td>\n",
       "      <td>23.6</td>\n",
       "    </tr>\n",
       "    <tr>\n",
       "      <th>ADESE</th>\n",
       "      <td>Adese AVM</td>\n",
       "      <td>Perakande - Ticaret</td>\n",
       "      <td>1.62</td>\n",
       "      <td>1633.0</td>\n",
       "      <td>62.6</td>\n",
       "      <td>92.9</td>\n",
       "      <td>1008.0</td>\n",
       "    </tr>\n",
       "    <tr>\n",
       "      <th>AEFES</th>\n",
       "      <td>Anadolu Efes</td>\n",
       "      <td>Meşrubat / İçecek</td>\n",
       "      <td>70.85</td>\n",
       "      <td>41950.7</td>\n",
       "      <td>1607.8</td>\n",
       "      <td>32.9</td>\n",
       "      <td>592.1</td>\n",
       "    </tr>\n",
       "  </tbody>\n",
       "</table>\n",
       "</div>"
      ],
      "text/plain": [
       "                        Hisse Adı               Sektör  Kapanış(TL)  \\\n",
       "Kod                                                                   \n",
       "A1CAP                  A1 Capital       Aracı Kurumlar        26.80   \n",
       "ACSEL  Acıselsan Acıpayam Selüloz        Kimyasal Ürün        84.25   \n",
       "ADEL              Adel Kalemcilik            Kırtasiye       245.00   \n",
       "ADESE                   Adese AVM  Perakande - Ticaret         1.62   \n",
       "AEFES                Anadolu Efes    Meşrubat / İçecek        70.85   \n",
       "\n",
       "       Piyasa Değeri(mn TL)  Piyasa Değeri(mn $)  Halka AçıklıkOranı (%)  \\\n",
       "Kod                                                                        \n",
       "A1CAP                3618.0                138.7                    25.9   \n",
       "ACSEL                 903.3                 34.6                    51.8   \n",
       "ADEL                 5788.1                221.8                    27.7   \n",
       "ADESE                1633.0                 62.6                    92.9   \n",
       "AEFES               41950.7               1607.8                    32.9   \n",
       "\n",
       "       Sermaye(mn TL)  \n",
       "Kod                    \n",
       "A1CAP           135.0  \n",
       "ACSEL            10.7  \n",
       "ADEL             23.6  \n",
       "ADESE          1008.0  \n",
       "AEFES           592.1  "
      ]
     },
     "execution_count": 320,
     "metadata": {},
     "output_type": "execute_result"
    }
   ],
   "source": [
    "import pandas as pd\n",
    "\n",
    "df3 = pd.read_excel('C:/Users/Yusuf Altuntaş/Desktop/repolarim/pandas-tutorial/pandas-tutorial/temelozet.xlsx', index_col=\"Kod\")\n",
    "df3.head()"
   ]
  },
  {
   "cell_type": "code",
   "execution_count": 321,
   "metadata": {},
   "outputs": [
    {
     "data": {
      "text/plain": [
       "Index(['A1CAP', 'ACSEL', 'ADEL', 'ADESE', 'AEFES', 'AFYON', 'AGESA', 'AGHOL',\n",
       "       'AGYO', 'AHGAZ',\n",
       "       ...\n",
       "       'YGYO', 'YKBNK', 'YKSLN', 'YONGA', 'YUNSA', 'YYAPI', 'YYLGD', 'ZEDUR',\n",
       "       'ZOREN', 'ZRGYO'],\n",
       "      dtype='object', name='Kod', length=509)"
      ]
     },
     "execution_count": 321,
     "metadata": {},
     "output_type": "execute_result"
    }
   ],
   "source": [
    "df3.index"
   ]
  },
  {
   "cell_type": "markdown",
   "metadata": {},
   "source": [
    "### **6.3 İndeks Aracılığıyla Erişim: loc**\n",
    "\n",
    "Pandas'ta, veri çerçevesindeki satırlara ve sütunlara indeksler aracılığıyla erişmek için ``loc`` yöntemi kullanılır. ``loc``, indeks etiketlerini kullanarak belirli bir satır veya sütunun değerlerine erişmemizi sağlar."
   ]
  },
  {
   "cell_type": "markdown",
   "metadata": {},
   "source": [
    "- ``loc`` ile \"THYAO\" indeksine ulaşalım. Aslında burada iloc ile loc'un ayrımı daha net görmüş olacağız."
   ]
  },
  {
   "cell_type": "code",
   "execution_count": 322,
   "metadata": {},
   "outputs": [
    {
     "data": {
      "text/plain": [
       "Hisse Adı                    Türk Hava Yolları\n",
       "Sektör                    Havayolları ve Hizm.\n",
       "Kapanış(TL)                              216.6\n",
       "Piyasa Değeri(mn TL)                  298908.0\n",
       "Piyasa Değeri(mn $)                    11455.9\n",
       "Halka AçıklıkOranı (%)                    50.4\n",
       "Sermaye(mn TL)                          1380.0\n",
       "Name: THYAO, dtype: object"
      ]
     },
     "execution_count": 322,
     "metadata": {},
     "output_type": "execute_result"
    }
   ],
   "source": [
    "df3.loc[\"THYAO\"]"
   ]
  },
  {
   "cell_type": "markdown",
   "metadata": {},
   "source": [
    "* Aynı indexin \"Piyasa Değeri(mn TL)\" değerine bakalım."
   ]
  },
  {
   "cell_type": "code",
   "execution_count": 323,
   "metadata": {},
   "outputs": [
    {
     "data": {
      "text/plain": [
       "298908.0"
      ]
     },
     "execution_count": 323,
     "metadata": {},
     "output_type": "execute_result"
    }
   ],
   "source": [
    "df3.loc[\"THYAO\", \"Piyasa Değeri(mn TL)\"]"
   ]
  },
  {
   "cell_type": "markdown",
   "metadata": {},
   "source": [
    "### **6.4 İndeks Sıfırlama: reset_index()**\n",
    "\n",
    "Pandas'ta, ``reset_index()`` yöntemi veri çerçevesinin indeksini sıfırlamak için kullanılır. Bu işlem, mevcut indeksi sıfırlar ve bir dizi ardışık sayıyı yeni indeks olarak atar."
   ]
  },
  {
   "cell_type": "markdown",
   "metadata": {},
   "source": [
    "* İndexi \"kod\" sütunu olarak ayarlamıştık. Varsayılan index değerine geri döndürelim. "
   ]
  },
  {
   "cell_type": "code",
   "execution_count": 324,
   "metadata": {},
   "outputs": [
    {
     "data": {
      "text/html": [
       "<div>\n",
       "<style scoped>\n",
       "    .dataframe tbody tr th:only-of-type {\n",
       "        vertical-align: middle;\n",
       "    }\n",
       "\n",
       "    .dataframe tbody tr th {\n",
       "        vertical-align: top;\n",
       "    }\n",
       "\n",
       "    .dataframe thead th {\n",
       "        text-align: right;\n",
       "    }\n",
       "</style>\n",
       "<table border=\"1\" class=\"dataframe\">\n",
       "  <thead>\n",
       "    <tr style=\"text-align: right;\">\n",
       "      <th></th>\n",
       "      <th>Kod</th>\n",
       "      <th>Hisse Adı</th>\n",
       "      <th>Sektör</th>\n",
       "      <th>Kapanış(TL)</th>\n",
       "      <th>Piyasa Değeri(mn TL)</th>\n",
       "      <th>Piyasa Değeri(mn $)</th>\n",
       "      <th>Halka AçıklıkOranı (%)</th>\n",
       "      <th>Sermaye(mn TL)</th>\n",
       "    </tr>\n",
       "  </thead>\n",
       "  <tbody>\n",
       "    <tr>\n",
       "      <th>0</th>\n",
       "      <td>A1CAP</td>\n",
       "      <td>A1 Capital</td>\n",
       "      <td>Aracı Kurumlar</td>\n",
       "      <td>26.80</td>\n",
       "      <td>3618.0</td>\n",
       "      <td>138.7</td>\n",
       "      <td>25.9</td>\n",
       "      <td>135.0</td>\n",
       "    </tr>\n",
       "    <tr>\n",
       "      <th>1</th>\n",
       "      <td>ACSEL</td>\n",
       "      <td>Acıselsan Acıpayam Selüloz</td>\n",
       "      <td>Kimyasal Ürün</td>\n",
       "      <td>84.25</td>\n",
       "      <td>903.3</td>\n",
       "      <td>34.6</td>\n",
       "      <td>51.8</td>\n",
       "      <td>10.7</td>\n",
       "    </tr>\n",
       "    <tr>\n",
       "      <th>2</th>\n",
       "      <td>ADEL</td>\n",
       "      <td>Adel Kalemcilik</td>\n",
       "      <td>Kırtasiye</td>\n",
       "      <td>245.00</td>\n",
       "      <td>5788.1</td>\n",
       "      <td>221.8</td>\n",
       "      <td>27.7</td>\n",
       "      <td>23.6</td>\n",
       "    </tr>\n",
       "    <tr>\n",
       "      <th>3</th>\n",
       "      <td>ADESE</td>\n",
       "      <td>Adese AVM</td>\n",
       "      <td>Perakande - Ticaret</td>\n",
       "      <td>1.62</td>\n",
       "      <td>1633.0</td>\n",
       "      <td>62.6</td>\n",
       "      <td>92.9</td>\n",
       "      <td>1008.0</td>\n",
       "    </tr>\n",
       "    <tr>\n",
       "      <th>4</th>\n",
       "      <td>AEFES</td>\n",
       "      <td>Anadolu Efes</td>\n",
       "      <td>Meşrubat / İçecek</td>\n",
       "      <td>70.85</td>\n",
       "      <td>41950.7</td>\n",
       "      <td>1607.8</td>\n",
       "      <td>32.9</td>\n",
       "      <td>592.1</td>\n",
       "    </tr>\n",
       "  </tbody>\n",
       "</table>\n",
       "</div>"
      ],
      "text/plain": [
       "     Kod                   Hisse Adı               Sektör  Kapanış(TL)  \\\n",
       "0  A1CAP                  A1 Capital       Aracı Kurumlar        26.80   \n",
       "1  ACSEL  Acıselsan Acıpayam Selüloz        Kimyasal Ürün        84.25   \n",
       "2   ADEL             Adel Kalemcilik            Kırtasiye       245.00   \n",
       "3  ADESE                   Adese AVM  Perakande - Ticaret         1.62   \n",
       "4  AEFES                Anadolu Efes    Meşrubat / İçecek        70.85   \n",
       "\n",
       "   Piyasa Değeri(mn TL)  Piyasa Değeri(mn $)  Halka AçıklıkOranı (%)  \\\n",
       "0                3618.0                138.7                    25.9   \n",
       "1                 903.3                 34.6                    51.8   \n",
       "2                5788.1                221.8                    27.7   \n",
       "3                1633.0                 62.6                    92.9   \n",
       "4               41950.7               1607.8                    32.9   \n",
       "\n",
       "   Sermaye(mn TL)  \n",
       "0           135.0  \n",
       "1            10.7  \n",
       "2            23.6  \n",
       "3          1008.0  \n",
       "4           592.1  "
      ]
     },
     "execution_count": 324,
     "metadata": {},
     "output_type": "execute_result"
    }
   ],
   "source": [
    "df3.reset_index(inplace=True)\n",
    "df3.head()"
   ]
  },
  {
   "cell_type": "markdown",
   "metadata": {},
   "source": [
    "### **6.5. İndekslerin Sıralanması: sort_index()**\n",
    "\n",
    "Pandas'ta, veri çerçevesindeki indekslerin sıralanması için sort_index() yöntemi kullanılır. Bu yöntem, indekslerin sıralanmasını belirli bir sıra veya kriter doğrultusunda gerçekleştirir.\n",
    "\n",
    "Artan sıraya göre aşağıdaki gibi sıralayabiliriz. Azalan sıraya göre sıralamak için `ascending` parametresini \"False\" olarak belirtmeliyiz."
   ]
  },
  {
   "cell_type": "code",
   "execution_count": 325,
   "metadata": {},
   "outputs": [
    {
     "data": {
      "text/html": [
       "<div>\n",
       "<style scoped>\n",
       "    .dataframe tbody tr th:only-of-type {\n",
       "        vertical-align: middle;\n",
       "    }\n",
       "\n",
       "    .dataframe tbody tr th {\n",
       "        vertical-align: top;\n",
       "    }\n",
       "\n",
       "    .dataframe thead th {\n",
       "        text-align: right;\n",
       "    }\n",
       "</style>\n",
       "<table border=\"1\" class=\"dataframe\">\n",
       "  <thead>\n",
       "    <tr style=\"text-align: right;\">\n",
       "      <th></th>\n",
       "      <th>Kod</th>\n",
       "      <th>Hisse Adı</th>\n",
       "      <th>Sektör</th>\n",
       "      <th>Kapanış(TL)</th>\n",
       "      <th>Piyasa Değeri(mn TL)</th>\n",
       "      <th>Piyasa Değeri(mn $)</th>\n",
       "      <th>Halka AçıklıkOranı (%)</th>\n",
       "      <th>Sermaye(mn TL)</th>\n",
       "    </tr>\n",
       "  </thead>\n",
       "  <tbody>\n",
       "    <tr>\n",
       "      <th>0</th>\n",
       "      <td>A1CAP</td>\n",
       "      <td>A1 Capital</td>\n",
       "      <td>Aracı Kurumlar</td>\n",
       "      <td>26.80</td>\n",
       "      <td>3618.0</td>\n",
       "      <td>138.7</td>\n",
       "      <td>25.9</td>\n",
       "      <td>135.0</td>\n",
       "    </tr>\n",
       "    <tr>\n",
       "      <th>1</th>\n",
       "      <td>ACSEL</td>\n",
       "      <td>Acıselsan Acıpayam Selüloz</td>\n",
       "      <td>Kimyasal Ürün</td>\n",
       "      <td>84.25</td>\n",
       "      <td>903.3</td>\n",
       "      <td>34.6</td>\n",
       "      <td>51.8</td>\n",
       "      <td>10.7</td>\n",
       "    </tr>\n",
       "    <tr>\n",
       "      <th>2</th>\n",
       "      <td>ADEL</td>\n",
       "      <td>Adel Kalemcilik</td>\n",
       "      <td>Kırtasiye</td>\n",
       "      <td>245.00</td>\n",
       "      <td>5788.1</td>\n",
       "      <td>221.8</td>\n",
       "      <td>27.7</td>\n",
       "      <td>23.6</td>\n",
       "    </tr>\n",
       "    <tr>\n",
       "      <th>3</th>\n",
       "      <td>ADESE</td>\n",
       "      <td>Adese AVM</td>\n",
       "      <td>Perakande - Ticaret</td>\n",
       "      <td>1.62</td>\n",
       "      <td>1633.0</td>\n",
       "      <td>62.6</td>\n",
       "      <td>92.9</td>\n",
       "      <td>1008.0</td>\n",
       "    </tr>\n",
       "    <tr>\n",
       "      <th>4</th>\n",
       "      <td>AEFES</td>\n",
       "      <td>Anadolu Efes</td>\n",
       "      <td>Meşrubat / İçecek</td>\n",
       "      <td>70.85</td>\n",
       "      <td>41950.7</td>\n",
       "      <td>1607.8</td>\n",
       "      <td>32.9</td>\n",
       "      <td>592.1</td>\n",
       "    </tr>\n",
       "  </tbody>\n",
       "</table>\n",
       "</div>"
      ],
      "text/plain": [
       "     Kod                   Hisse Adı               Sektör  Kapanış(TL)  \\\n",
       "0  A1CAP                  A1 Capital       Aracı Kurumlar        26.80   \n",
       "1  ACSEL  Acıselsan Acıpayam Selüloz        Kimyasal Ürün        84.25   \n",
       "2   ADEL             Adel Kalemcilik            Kırtasiye       245.00   \n",
       "3  ADESE                   Adese AVM  Perakande - Ticaret         1.62   \n",
       "4  AEFES                Anadolu Efes    Meşrubat / İçecek        70.85   \n",
       "\n",
       "   Piyasa Değeri(mn TL)  Piyasa Değeri(mn $)  Halka AçıklıkOranı (%)  \\\n",
       "0                3618.0                138.7                    25.9   \n",
       "1                 903.3                 34.6                    51.8   \n",
       "2                5788.1                221.8                    27.7   \n",
       "3                1633.0                 62.6                    92.9   \n",
       "4               41950.7               1607.8                    32.9   \n",
       "\n",
       "   Sermaye(mn TL)  \n",
       "0           135.0  \n",
       "1            10.7  \n",
       "2            23.6  \n",
       "3          1008.0  \n",
       "4           592.1  "
      ]
     },
     "execution_count": 325,
     "metadata": {},
     "output_type": "execute_result"
    }
   ],
   "source": [
    "df.sort_index().head()"
   ]
  },
  {
   "cell_type": "code",
   "execution_count": 326,
   "metadata": {},
   "outputs": [
    {
     "data": {
      "text/html": [
       "<div>\n",
       "<style scoped>\n",
       "    .dataframe tbody tr th:only-of-type {\n",
       "        vertical-align: middle;\n",
       "    }\n",
       "\n",
       "    .dataframe tbody tr th {\n",
       "        vertical-align: top;\n",
       "    }\n",
       "\n",
       "    .dataframe thead th {\n",
       "        text-align: right;\n",
       "    }\n",
       "</style>\n",
       "<table border=\"1\" class=\"dataframe\">\n",
       "  <thead>\n",
       "    <tr style=\"text-align: right;\">\n",
       "      <th></th>\n",
       "      <th>Kod</th>\n",
       "      <th>Hisse Adı</th>\n",
       "      <th>Sektör</th>\n",
       "      <th>Kapanış(TL)</th>\n",
       "      <th>Piyasa Değeri(mn TL)</th>\n",
       "      <th>Piyasa Değeri(mn $)</th>\n",
       "      <th>Halka AçıklıkOranı (%)</th>\n",
       "      <th>Sermaye(mn TL)</th>\n",
       "    </tr>\n",
       "  </thead>\n",
       "  <tbody>\n",
       "    <tr>\n",
       "      <th>508</th>\n",
       "      <td>ZRGYO</td>\n",
       "      <td>Ziraat GYO</td>\n",
       "      <td>GYO</td>\n",
       "      <td>4.67</td>\n",
       "      <td>21919.2</td>\n",
       "      <td>840.1</td>\n",
       "      <td>18.9</td>\n",
       "      <td>4693.6</td>\n",
       "    </tr>\n",
       "    <tr>\n",
       "      <th>507</th>\n",
       "      <td>ZOREN</td>\n",
       "      <td>Zorlu Enerji</td>\n",
       "      <td>Elektrik</td>\n",
       "      <td>3.50</td>\n",
       "      <td>17500.0</td>\n",
       "      <td>670.7</td>\n",
       "      <td>30.0</td>\n",
       "      <td>5000.0</td>\n",
       "    </tr>\n",
       "    <tr>\n",
       "      <th>506</th>\n",
       "      <td>ZEDUR</td>\n",
       "      <td>Zedur Enerji</td>\n",
       "      <td>Elektrik</td>\n",
       "      <td>49.80</td>\n",
       "      <td>1245.0</td>\n",
       "      <td>47.7</td>\n",
       "      <td>38.6</td>\n",
       "      <td>25.0</td>\n",
       "    </tr>\n",
       "    <tr>\n",
       "      <th>505</th>\n",
       "      <td>YYLGD</td>\n",
       "      <td>Yayla Agro Gıda</td>\n",
       "      <td>Gıda</td>\n",
       "      <td>31.32</td>\n",
       "      <td>14801.8</td>\n",
       "      <td>567.3</td>\n",
       "      <td>15.0</td>\n",
       "      <td>472.6</td>\n",
       "    </tr>\n",
       "    <tr>\n",
       "      <th>504</th>\n",
       "      <td>YYAPI</td>\n",
       "      <td>Yesil Yapi</td>\n",
       "      <td>İnşaat- Taahhüt</td>\n",
       "      <td>2.72</td>\n",
       "      <td>875.0</td>\n",
       "      <td>33.5</td>\n",
       "      <td>72.2</td>\n",
       "      <td>321.7</td>\n",
       "    </tr>\n",
       "  </tbody>\n",
       "</table>\n",
       "</div>"
      ],
      "text/plain": [
       "       Kod        Hisse Adı           Sektör  Kapanış(TL)  \\\n",
       "508  ZRGYO       Ziraat GYO              GYO         4.67   \n",
       "507  ZOREN     Zorlu Enerji         Elektrik         3.50   \n",
       "506  ZEDUR     Zedur Enerji         Elektrik        49.80   \n",
       "505  YYLGD  Yayla Agro Gıda             Gıda        31.32   \n",
       "504  YYAPI       Yesil Yapi  İnşaat- Taahhüt         2.72   \n",
       "\n",
       "     Piyasa Değeri(mn TL)  Piyasa Değeri(mn $)  Halka AçıklıkOranı (%)  \\\n",
       "508               21919.2                840.1                    18.9   \n",
       "507               17500.0                670.7                    30.0   \n",
       "506                1245.0                 47.7                    38.6   \n",
       "505               14801.8                567.3                    15.0   \n",
       "504                 875.0                 33.5                    72.2   \n",
       "\n",
       "     Sermaye(mn TL)  \n",
       "508          4693.6  \n",
       "507          5000.0  \n",
       "506            25.0  \n",
       "505           472.6  \n",
       "504           321.7  "
      ]
     },
     "execution_count": 326,
     "metadata": {},
     "output_type": "execute_result"
    }
   ],
   "source": [
    "df.sort_index(ascending=False).head()"
   ]
  },
  {
   "cell_type": "code",
   "execution_count": 327,
   "metadata": {},
   "outputs": [],
   "source": [
    "df.reset_index(inplace=True)"
   ]
  },
  {
   "cell_type": "markdown",
   "metadata": {},
   "source": [
    "## **7) Filtreleme**\n",
    "\n",
    "Pandas'ta, veri çerçevesinden belirli bir koşula veya kriterlere uyan verileri seçme işlemine \"filtreleme\" denir. Bu işlem, veri setinden istenmeyen verileri kaldırmak veya belirli bir şartı sağlayan verileri seçmek için kullanılır."
   ]
  },
  {
   "cell_type": "markdown",
   "metadata": {},
   "source": [
    "### **7.1 Tekli Filtreleme: İç içe ve loc**\n",
    "\n",
    "Pandas'ta, tekli filtreme yapmak için genellikle iç içe geçmiş koşullar veya loc kullanılır. Bu yöntemlerle, birden fazla koşulu tek bir ifadeyle birleştirebiliriz."
   ]
  },
  {
   "cell_type": "markdown",
   "metadata": {},
   "source": [
    "* \"Sektör\" sütununun \"Bankacılık\" olduğu değerleri filtreleyelim."
   ]
  },
  {
   "cell_type": "code",
   "execution_count": 328,
   "metadata": {},
   "outputs": [
    {
     "data": {
      "text/html": [
       "<div>\n",
       "<style scoped>\n",
       "    .dataframe tbody tr th:only-of-type {\n",
       "        vertical-align: middle;\n",
       "    }\n",
       "\n",
       "    .dataframe tbody tr th {\n",
       "        vertical-align: top;\n",
       "    }\n",
       "\n",
       "    .dataframe thead th {\n",
       "        text-align: right;\n",
       "    }\n",
       "</style>\n",
       "<table border=\"1\" class=\"dataframe\">\n",
       "  <thead>\n",
       "    <tr style=\"text-align: right;\">\n",
       "      <th></th>\n",
       "      <th>index</th>\n",
       "      <th>Kod</th>\n",
       "      <th>Hisse Adı</th>\n",
       "      <th>Sektör</th>\n",
       "      <th>Kapanış(TL)</th>\n",
       "      <th>Piyasa Değeri(mn TL)</th>\n",
       "      <th>Piyasa Değeri(mn $)</th>\n",
       "      <th>Halka AçıklıkOranı (%)</th>\n",
       "      <th>Sermaye(mn TL)</th>\n",
       "    </tr>\n",
       "  </thead>\n",
       "  <tbody>\n",
       "    <tr>\n",
       "      <th>10</th>\n",
       "      <td>10</td>\n",
       "      <td>AKBNK</td>\n",
       "      <td>Akbank</td>\n",
       "      <td>Bankacılık</td>\n",
       "      <td>20.46</td>\n",
       "      <td>106392.0</td>\n",
       "      <td>4077.6</td>\n",
       "      <td>51.8</td>\n",
       "      <td>5200.0</td>\n",
       "    </tr>\n",
       "    <tr>\n",
       "      <th>23</th>\n",
       "      <td>23</td>\n",
       "      <td>ALBRK</td>\n",
       "      <td>Albaraka Türk</td>\n",
       "      <td>Bankacılık</td>\n",
       "      <td>3.10</td>\n",
       "      <td>7750.0</td>\n",
       "      <td>297.0</td>\n",
       "      <td>38.4</td>\n",
       "      <td>2500.0</td>\n",
       "    </tr>\n",
       "    <tr>\n",
       "      <th>184</th>\n",
       "      <td>184</td>\n",
       "      <td>GARAN</td>\n",
       "      <td>Garanti Bankası</td>\n",
       "      <td>Bankacılık</td>\n",
       "      <td>33.10</td>\n",
       "      <td>139020.0</td>\n",
       "      <td>5328.0</td>\n",
       "      <td>14.0</td>\n",
       "      <td>4200.0</td>\n",
       "    </tr>\n",
       "    <tr>\n",
       "      <th>210</th>\n",
       "      <td>210</td>\n",
       "      <td>HALKB</td>\n",
       "      <td>Halkbank</td>\n",
       "      <td>Bankacılık</td>\n",
       "      <td>13.08</td>\n",
       "      <td>93976.9</td>\n",
       "      <td>3601.7</td>\n",
       "      <td>8.5</td>\n",
       "      <td>7184.8</td>\n",
       "    </tr>\n",
       "    <tr>\n",
       "      <th>221</th>\n",
       "      <td>221</td>\n",
       "      <td>ICBCT</td>\n",
       "      <td>ICBC Turkey Bank</td>\n",
       "      <td>Bankacılık</td>\n",
       "      <td>8.56</td>\n",
       "      <td>7361.6</td>\n",
       "      <td>282.1</td>\n",
       "      <td>7.2</td>\n",
       "      <td>860.0</td>\n",
       "    </tr>\n",
       "  </tbody>\n",
       "</table>\n",
       "</div>"
      ],
      "text/plain": [
       "     index    Kod         Hisse Adı      Sektör  Kapanış(TL)  \\\n",
       "10      10  AKBNK            Akbank  Bankacılık        20.46   \n",
       "23      23  ALBRK     Albaraka Türk  Bankacılık         3.10   \n",
       "184    184  GARAN   Garanti Bankası  Bankacılık        33.10   \n",
       "210    210  HALKB          Halkbank  Bankacılık        13.08   \n",
       "221    221  ICBCT  ICBC Turkey Bank  Bankacılık         8.56   \n",
       "\n",
       "     Piyasa Değeri(mn TL)  Piyasa Değeri(mn $)  Halka AçıklıkOranı (%)  \\\n",
       "10               106392.0               4077.6                    51.8   \n",
       "23                 7750.0                297.0                    38.4   \n",
       "184              139020.0               5328.0                    14.0   \n",
       "210               93976.9               3601.7                     8.5   \n",
       "221                7361.6                282.1                     7.2   \n",
       "\n",
       "     Sermaye(mn TL)  \n",
       "10           5200.0  \n",
       "23           2500.0  \n",
       "184          4200.0  \n",
       "210          7184.8  \n",
       "221           860.0  "
      ]
     },
     "execution_count": 328,
     "metadata": {},
     "output_type": "execute_result"
    }
   ],
   "source": [
    "df[df[\"Sektör\"] == \"Bankacılık\"].head()"
   ]
  },
  {
   "cell_type": "markdown",
   "metadata": {},
   "source": [
    "* \"Sektör\" değeri \"Bankacılık\" olan verilerin \"Kod\" sütunundaki değerlerini yazdıralım."
   ]
  },
  {
   "cell_type": "code",
   "execution_count": 329,
   "metadata": {},
   "outputs": [
    {
     "data": {
      "text/plain": [
       "10     AKBNK\n",
       "23     ALBRK\n",
       "184    GARAN\n",
       "210    HALKB\n",
       "221    ICBCT\n",
       "Name: Kod, dtype: object"
      ]
     },
     "execution_count": 329,
     "metadata": {},
     "output_type": "execute_result"
    }
   ],
   "source": [
    "df[df[\"Sektör\"] == \"Bankacılık\"][\"Kod\"].head()"
   ]
  },
  {
   "cell_type": "code",
   "execution_count": 330,
   "metadata": {},
   "outputs": [],
   "source": [
    "df.set_index(\"Kod\", inplace=True)"
   ]
  },
  {
   "cell_type": "markdown",
   "metadata": {},
   "source": [
    "* ``loc`` yöntemiyle de tekli filtreme yapabiliriz. \"Sektör\" değeri \"Bankacılık olan verilerin \"Halka AçıklıkOranı (%)\" değerlerini yazdıralım."
   ]
  },
  {
   "cell_type": "code",
   "execution_count": 331,
   "metadata": {},
   "outputs": [
    {
     "data": {
      "text/plain": [
       "Kod\n",
       "AKBNK    51.8\n",
       "ALBRK    38.4\n",
       "GARAN    14.0\n",
       "HALKB     8.5\n",
       "ICBCT     7.2\n",
       "ISATR    23.9\n",
       "ISBTR    25.7\n",
       "ISCTR    32.6\n",
       "ISKUR    28.7\n",
       "KLNMA     0.9\n",
       "QNBFB     0.1\n",
       "SKBNK    48.8\n",
       "TSKB     38.8\n",
       "VAKBN     6.1\n",
       "YKBNK    32.0\n",
       "Name: Halka AçıklıkOranı (%), dtype: float64"
      ]
     },
     "execution_count": 331,
     "metadata": {},
     "output_type": "execute_result"
    }
   ],
   "source": [
    "df.loc[df[\"Sektör\"] == \"Bankacılık\", \"Halka AçıklıkOranı (%)\"]"
   ]
  },
  {
   "cell_type": "markdown",
   "metadata": {},
   "source": [
    "### **7.2. Çoklu Filtreleme: &, | ve isin()**\n",
    "\n",
    "Pandas'ta, çoklu filtreme işlemleri için ``&`` (ve), ``|`` (veya) operatörleri ve ``isin()`` yöntemi kullanılır. Bu yöntemlerle birden fazla koşulu birleştirebiliriz ve istenilen verileri seçebiliriz."
   ]
  },
  {
   "cell_type": "markdown",
   "metadata": {},
   "source": [
    "#### **7.2.1 Mantıksal Operatörler**\n",
    "\n",
    "Birden fazla filtreleme yapmak istediğimizde mantıksal operatörleri kullanabiliriz."
   ]
  },
  {
   "cell_type": "markdown",
   "metadata": {},
   "source": [
    "* Örneğin, hem Sektör sütunundan Bankacılık değerini hem de Halka AçıklıkOranı (%) sütunundan 10'den büyük olanları alalım ve Hisse Adı sütunundaki değerleri getirelim."
   ]
  },
  {
   "cell_type": "code",
   "execution_count": 332,
   "metadata": {},
   "outputs": [
    {
     "data": {
      "text/plain": [
       "Kod\n",
       "AKBNK                Akbank\n",
       "ALBRK         Albaraka Türk\n",
       "GARAN       Garanti Bankası\n",
       "ISATR        İş Bankası (A)\n",
       "ISBTR        İş Bankası (B)\n",
       "ISCTR        İş Bankası (C)\n",
       "ISKUR     İş Bankası Kurucu\n",
       "SKBNK             Şekerbank\n",
       "TSKB                   TSKB\n",
       "YKBNK    Yapı Kredi Bankası\n",
       "Name: Hisse Adı, dtype: object"
      ]
     },
     "execution_count": 332,
     "metadata": {},
     "output_type": "execute_result"
    }
   ],
   "source": [
    "df.loc[(df[\"Sektör\"] == \"Bankacılık\") & (df[\"Halka AçıklıkOranı (%)\"] > 10), \"Hisse Adı\"]"
   ]
  },
  {
   "cell_type": "markdown",
   "metadata": {},
   "source": [
    "* Burada, her bir filtreleme işlemini parantez içerisine aldık. Örnekte, ve anlamına gelen & operatörünü kullandık. Bir de veya anlamına gelen | operatörünü kullanalım."
   ]
  },
  {
   "cell_type": "code",
   "execution_count": 333,
   "metadata": {},
   "outputs": [
    {
     "data": {
      "text/plain": [
       "Kod\n",
       "ACSEL    Acıselsan Acıpayam Selüloz\n",
       "ADESE                     Adese AVM\n",
       "AKBNK                        Akbank\n",
       "AKSUE                   Aksu Enerji\n",
       "AKYHO       Akdeniz Yatırım Holding\n",
       "                    ...            \n",
       "YESIL         Yeşil Yatırım Holding\n",
       "YGGYO                Yeni Gimat GYO\n",
       "YGYO                      Yeşil GYO\n",
       "YKBNK            Yapı Kredi Bankası\n",
       "YYAPI                    Yesil Yapi\n",
       "Name: Hisse Adı, Length: 165, dtype: object"
      ]
     },
     "execution_count": 333,
     "metadata": {},
     "output_type": "execute_result"
    }
   ],
   "source": [
    "df.loc[(df['Sektör'] == 'Bankacılık') | (df['Halka AçıklıkOranı (%)'] > 50), 'Hisse Adı']"
   ]
  },
  {
   "cell_type": "markdown",
   "metadata": {},
   "source": [
    "* `&` kullandığımız örnekte elde ettiğimiz verinin tam tersini elde etmek için başına ``~`` işareti koyalım. Elde edeceğimiz çıktı \"Sektör\" değeri \"Bankacılık\" olmayan ve \"Halka AçıklıkOranı (%)\" değeri 10 dan küçük olan veriler olacaktır."
   ]
  },
  {
   "cell_type": "code",
   "execution_count": 334,
   "metadata": {},
   "outputs": [
    {
     "data": {
      "text/plain": [
       "Kod\n",
       "AKMGY                     Akmerkez GYO\n",
       "ARMDA                Armada Bilgisayar\n",
       "AYCES                 Altınyunus Çesme\n",
       "BANVT                           Banvit\n",
       "BASCM    Baştaş Başkent Çimento Sanayi\n",
       "CLEBI                           Çelebi\n",
       "CMENT                         Çimentaş\n",
       "DAPGM                  Dap Gayrimenkul\n",
       "DGGYO                     Dogus GE GYO\n",
       "DOKTA                Döktaş Dökümcülük\n",
       "ENKAI                      Enka İnşaat\n",
       "GARFA           Garanti BBVA Faktoring\n",
       "ISDMR           İskenderun Demir Çelik\n",
       "KENT                         Kent Gıda\n",
       "MRSHL                         Marshall\n",
       "QNBFL             QNB Finans Fin. Kir.\n",
       "RAYSG                      Ray Sigorta\n",
       "SNPAM                   Sönmez Pamuklu\n",
       "SONME                  Sönmez Filament\n",
       "TBORG                           Tuborg\n",
       "UFUK          Ufuk Yat.Yön.ve Gay. AŞ.\n",
       "ULUSE                  Ulusoy Elektrik\n",
       "YBTAS         Yibitaş İnş. Malzemeleri\n",
       "Name: Hisse Adı, dtype: object"
      ]
     },
     "execution_count": 334,
     "metadata": {},
     "output_type": "execute_result"
    }
   ],
   "source": [
    "df.loc[~(df['Sektör'] == 'Bankacılık') & ~(df['Halka AçıklıkOranı (%)'] > 10), 'Hisse Adı']"
   ]
  },
  {
   "cell_type": "markdown",
   "metadata": {},
   "source": [
    "#### 7.2.2 isin() Kullanımı\n",
    "\n",
    "``isin()`` yöntemi, bir sütunun belirli değerlere sahip olup olmadığını kontrol eder."
   ]
  },
  {
   "cell_type": "code",
   "execution_count": 335,
   "metadata": {},
   "outputs": [
    {
     "data": {
      "text/html": [
       "<div>\n",
       "<style scoped>\n",
       "    .dataframe tbody tr th:only-of-type {\n",
       "        vertical-align: middle;\n",
       "    }\n",
       "\n",
       "    .dataframe tbody tr th {\n",
       "        vertical-align: top;\n",
       "    }\n",
       "\n",
       "    .dataframe thead th {\n",
       "        text-align: right;\n",
       "    }\n",
       "</style>\n",
       "<table border=\"1\" class=\"dataframe\">\n",
       "  <thead>\n",
       "    <tr style=\"text-align: right;\">\n",
       "      <th></th>\n",
       "      <th>index</th>\n",
       "      <th>Hisse Adı</th>\n",
       "      <th>Sektör</th>\n",
       "      <th>Kapanış(TL)</th>\n",
       "      <th>Piyasa Değeri(mn TL)</th>\n",
       "      <th>Piyasa Değeri(mn $)</th>\n",
       "      <th>Halka AçıklıkOranı (%)</th>\n",
       "      <th>Sermaye(mn TL)</th>\n",
       "    </tr>\n",
       "    <tr>\n",
       "      <th>Kod</th>\n",
       "      <th></th>\n",
       "      <th></th>\n",
       "      <th></th>\n",
       "      <th></th>\n",
       "      <th></th>\n",
       "      <th></th>\n",
       "      <th></th>\n",
       "      <th></th>\n",
       "    </tr>\n",
       "  </thead>\n",
       "  <tbody>\n",
       "    <tr>\n",
       "      <th>AGYO</th>\n",
       "      <td>8</td>\n",
       "      <td>Atakule GYO</td>\n",
       "      <td>GYO</td>\n",
       "      <td>5.41</td>\n",
       "      <td>1424.7</td>\n",
       "      <td>54.6</td>\n",
       "      <td>18.3</td>\n",
       "      <td>263.3</td>\n",
       "    </tr>\n",
       "    <tr>\n",
       "      <th>AKBNK</th>\n",
       "      <td>10</td>\n",
       "      <td>Akbank</td>\n",
       "      <td>Bankacılık</td>\n",
       "      <td>20.46</td>\n",
       "      <td>106392.0</td>\n",
       "      <td>4077.6</td>\n",
       "      <td>51.8</td>\n",
       "      <td>5200.0</td>\n",
       "    </tr>\n",
       "    <tr>\n",
       "      <th>AKFGY</th>\n",
       "      <td>13</td>\n",
       "      <td>Akfen GYO</td>\n",
       "      <td>GYO</td>\n",
       "      <td>4.65</td>\n",
       "      <td>6045.0</td>\n",
       "      <td>231.7</td>\n",
       "      <td>44.5</td>\n",
       "      <td>1300.0</td>\n",
       "    </tr>\n",
       "    <tr>\n",
       "      <th>AKMGY</th>\n",
       "      <td>16</td>\n",
       "      <td>Akmerkez GYO</td>\n",
       "      <td>GYO</td>\n",
       "      <td>83.40</td>\n",
       "      <td>3107.8</td>\n",
       "      <td>119.1</td>\n",
       "      <td>8.9</td>\n",
       "      <td>37.3</td>\n",
       "    </tr>\n",
       "    <tr>\n",
       "      <th>AKSGY</th>\n",
       "      <td>19</td>\n",
       "      <td>Akis GYO</td>\n",
       "      <td>GYO</td>\n",
       "      <td>6.21</td>\n",
       "      <td>4999.1</td>\n",
       "      <td>191.6</td>\n",
       "      <td>44.7</td>\n",
       "      <td>805.0</td>\n",
       "    </tr>\n",
       "  </tbody>\n",
       "</table>\n",
       "</div>"
      ],
      "text/plain": [
       "       index     Hisse Adı      Sektör  Kapanış(TL)  Piyasa Değeri(mn TL)  \\\n",
       "Kod                                                                         \n",
       "AGYO       8   Atakule GYO         GYO         5.41                1424.7   \n",
       "AKBNK     10        Akbank  Bankacılık        20.46              106392.0   \n",
       "AKFGY     13     Akfen GYO         GYO         4.65                6045.0   \n",
       "AKMGY     16  Akmerkez GYO         GYO        83.40                3107.8   \n",
       "AKSGY     19      Akis GYO         GYO         6.21                4999.1   \n",
       "\n",
       "       Piyasa Değeri(mn $)  Halka AçıklıkOranı (%)  Sermaye(mn TL)  \n",
       "Kod                                                                 \n",
       "AGYO                  54.6                    18.3           263.3  \n",
       "AKBNK               4077.6                    51.8          5200.0  \n",
       "AKFGY                231.7                    44.5          1300.0  \n",
       "AKMGY                119.1                     8.9            37.3  \n",
       "AKSGY                191.6                    44.7           805.0  "
      ]
     },
     "execution_count": 335,
     "metadata": {},
     "output_type": "execute_result"
    }
   ],
   "source": [
    "df_sektor = df.loc[df[\"Sektör\"].isin(['GYO','Bankacılık'])]\n",
    "df_sektor.head()"
   ]
  },
  {
   "cell_type": "code",
   "execution_count": null,
   "metadata": {},
   "outputs": [],
   "source": []
  }
 ],
 "metadata": {
  "kernelspec": {
   "display_name": "Python 3",
   "language": "python",
   "name": "python3"
  },
  "language_info": {
   "codemirror_mode": {
    "name": "ipython",
    "version": 3
   },
   "file_extension": ".py",
   "mimetype": "text/x-python",
   "name": "python",
   "nbconvert_exporter": "python",
   "pygments_lexer": "ipython3",
   "version": "3.11.2"
  }
 },
 "nbformat": 4,
 "nbformat_minor": 2
}
