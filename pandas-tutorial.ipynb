{
 "cells": [
  {
   "cell_type": "markdown",
   "metadata": {},
   "source": [
    "## Pandas Serileri ve Veri Çerçeveleri\n",
    "\n",
    "1. **Pandas Nedir?**\n",
    "   - Pandas'ın tanımı\n",
    "   - Pandas'ın kullanım alanları\n",
    "   \n",
    "2. **Pandas Serileri**\n",
    "   - Seri nedir?\n",
    "   - Seri oluşturma\n",
    "     - Listelerden seri oluşturma\n",
    "     - NumPy dizilerinden seri oluşturma\n",
    "   - Seri İndeksleme ve Dilimleme\n",
    "   - Seri Özellikleri ve Metodları\n",
    "     - `head()` ve `tail()`\n",
    "     - `describe()`\n",
    "     - `value_counts()`\n",
    "     - `unique()`\n",
    "   \n",
    "3. **Pandas Veri Çerçeveleri**\n",
    "   - Veri çerçevesi nedir?\n",
    "   - Veri çerçevesi oluşturma\n",
    "     - Sözlükten veri çerçevesi oluşturma\n",
    "     - NumPy dizisinden veri çerçevesi oluşturma\n",
    "   - Veri Çerçevesi İndeksleme ve Dilimleme\n",
    "   - Veri Çerçevesi Özellikleri ve Metodları\n",
    "     - `info()`\n",
    "     - `head()` ve `tail()`\n",
    "     - `describe()`\n",
    "     - `shape`\n",
    "     - `columns`\n",
    "     - `index`\n",
    "\n",
    "4. **Veri Okuma ve Yazma**\n",
    "   - CSV dosyalarından veri okuma\n",
    "   - Excel dosyalarından veri okuma\n",
    "   - Veri çerçevesini CSV ve Excel formatlarında kaydetme\n",
    "\n",
    "5. **Veri İşleme ve Temizleme**\n",
    "   - Eksik verilerle başa çıkma\n",
    "     - `isnull()` ve `notnull()`\n",
    "     - `dropna()`\n",
    "     - `fillna()`\n",
    "   - Veri türü dönüşümleri\n",
    "   - Veri çerçevesinde tekrar eden değerleri kaldırma\n",
    "   - Sütun ve satır ekleme, silme ve güncelleme\n",
    "\n",
    "6. **Veri Görselleştirme**\n",
    "   - Veri çerçevesi görselleştirme\n",
    "     - `plot()`\n",
    "     - `hist()`\n",
    "     - `boxplot()`\n",
    "   - Grafiklerin özelleştirilmesi\n",
    "\n",
    "7. **Veri Analizi**\n",
    "   - Temel istatistiksel hesaplamalar\n",
    "     - `mean()`, `median()`, `std()`, `min()`, `max()`, `sum()`\n",
    "   - Gruplama ve toplulaştırma\n",
    "     - `groupby()`\n",
    "   - Veri sıralama\n",
    "     - `sort_values()`\n",
    "     - `sort_index()`\n",
    "\n",
    "8. **Veri Birleştirme ve Birleştirme**\n",
    "   - Veri birleştirme\n",
    "     - `concat()`\n",
    "     - `merge()`\n",
    "   - Veri çerçeveleri arası birleştirme\n",
    "     - `join()`\n",
    "\n",
    "9. **Zaman Serisi Verileri**\n",
    "   - Tarih ve saat veri türleri\n",
    "   - Zaman serisi oluşturma\n",
    "   - Zaman serileri üzerinde işlemler\n",
    "     - Filtreleme, örnekleme, kaydırma\n",
    "\n",
    "10. **Pandas İleri Seviye Kavramlar**\n",
    "    - İleri seviye indeksleme ve seçme\n",
    "    - Pandas'ın hızlandırılması ve performans optimizasyonu\n",
    "    - Büyük veri kümeleri ile çalışma\n",
    "\n",
    "Bu başlıklar altında Pandas'ın temellerinden başlayarak ileri seviye kavramlara kadar geniş bir yelpazede bilgi edinebilirsiniz. Her bir başlık altında örneklerle detaylı bir şekilde konuları ele alacağız."
   ]
  },
  {
   "cell_type": "markdown",
   "metadata": {},
   "source": [
    "## **Pandas Temelleri**"
   ]
  },
  {
   "cell_type": "markdown",
   "metadata": {},
   "source": [
    "## **1) Kurulum**\n",
    "\n",
    "Pandas'ı yüklemek için `pip` veya `conda` kullanabiliriz. Bu kurulumlar, Python ortamınıza pandas kütüphanesini ekler.\n",
    "\n",
    "### **Pip Kullanarak Kurulum:**\n",
    "\n",
    "Pip, Python paketlerinin yönetiminde sıkça kullanılan bir araçtır. Aşağıdaki komutu kullanarak pandas'ı pip aracılığıyla kurabilirsiniz:\n",
    "\n",
    "```bash\n",
    "pip install pandas\n",
    "```\n",
    "\n",
    "### **Conda Kullanarak Kurulum:**\n",
    "\n",
    "Conda, Anaconda veya Miniconda gibi dağıtımlarla birlikte gelen bir paket yöneticisidir. Aşağıdaki komutu kullanarak pandas'ı conda aracılığıyla kurabilirsiniz:\n",
    "\n",
    "```bash\n",
    "conda install pandas\n",
    "```\n",
    "\n",
    "Bu komutlar, pandas kütüphanesinin en son sürümünü indirir ve yükler.\n",
    "\n",
    "---"
   ]
  },
  {
   "cell_type": "code",
   "execution_count": 3,
   "metadata": {},
   "outputs": [],
   "source": [
    "import pandas as pd"
   ]
  },
  {
   "cell_type": "markdown",
   "metadata": {},
   "source": [
    "## **2) Pandas Veri Yapıları**\n",
    "\n",
    "Pandas kütüphanesi iki ana veri yapısı sunar: Seriler (Series) ve Veri Çerçeveleri (DataFrames).\n",
    "Bu seri, indekslerle (varsayılan olarak 0'dan başlar) etiketlenmiş değerler içerir."
   ]
  },
  {
   "cell_type": "markdown",
   "metadata": {},
   "source": [
    "### **2.1 Seriler (Series):**\n",
    "\n",
    "Pandas'ta Series veri yapısı, tek boyutlu, indekslenmiş ve değiştirilemeyen (immutable) veri dizilerini temsil eder. Her bir eleman, bir indeksle ilişkilendirilmiştir. Örneğin Bu seri, indekslerle (varsayılan olarak 0'dan başlar) etiketlenmiş değerler içerir:"
   ]
  },
  {
   "cell_type": "code",
   "execution_count": 4,
   "metadata": {},
   "outputs": [
    {
     "name": "stdout",
     "output_type": "stream",
     "text": [
      "0    10\n",
      "1    20\n",
      "2    30\n",
      "3    40\n",
      "4    50\n",
      "dtype: int64\n"
     ]
    }
   ],
   "source": [
    "seri = pd.Series([10, 20, 30, 40, 50])\n",
    "print(seri)"
   ]
  },
  {
   "cell_type": "markdown",
   "metadata": {},
   "source": [
    "#### **2.1.1 Seri Oluşturma**\n",
    "\n",
    "* Pandas serileri, çeşitli veri tiplerinden oluşturulabilir."
   ]
  },
  {
   "cell_type": "markdown",
   "metadata": {},
   "source": [
    "##### **Listelerden Seri Oluşturma**"
   ]
  },
  {
   "cell_type": "code",
   "execution_count": 1,
   "metadata": {},
   "outputs": [
    {
     "name": "stdout",
     "output_type": "stream",
     "text": [
      "0    1\n",
      "1    2\n",
      "2    3\n",
      "3    4\n",
      "4    5\n",
      "dtype: int64\n"
     ]
    }
   ],
   "source": [
    "import pandas as pd\n",
    "\n",
    "data = [1, 2, 3, 4, 5]\n",
    "seri = pd.Series(data)\n",
    "print(seri)"
   ]
  },
  {
   "cell_type": "markdown",
   "metadata": {},
   "source": [
    "##### **NumPy Dizilerinden Seri Oluşturma**"
   ]
  },
  {
   "cell_type": "code",
   "execution_count": 2,
   "metadata": {},
   "outputs": [
    {
     "name": "stdout",
     "output_type": "stream",
     "text": [
      "0    1\n",
      "1    2\n",
      "2    3\n",
      "3    4\n",
      "4    5\n",
      "dtype: int32\n"
     ]
    }
   ],
   "source": [
    "import pandas as pd\n",
    "import numpy as np\n",
    "\n",
    "data = np.array([1, 2, 3, 4, 5])\n",
    "seri = pd.Series(data)\n",
    "print(seri)"
   ]
  },
  {
   "cell_type": "markdown",
   "metadata": {},
   "source": [
    "#### **2.1.2 Seri İndeksleme ve Dilimleme**\n",
    "\n",
    "* Pandas serileri, indeksleme ve dilimleme işlemleri için kullanılabilir."
   ]
  },
  {
   "cell_type": "code",
   "execution_count": 4,
   "metadata": {},
   "outputs": [
    {
     "name": "stdout",
     "output_type": "stream",
     "text": [
      "1 \n",
      "\n",
      "1    2\n",
      "2    3\n",
      "dtype: int32 \n",
      "\n",
      "0    1\n",
      "1    2\n",
      "2    3\n",
      "dtype: int32 \n",
      "\n",
      "3    4\n",
      "4    5\n",
      "dtype: int32 \n",
      "\n"
     ]
    }
   ],
   "source": [
    "print(seri[0], \"\\n\")  # İlk eleman\n",
    "print(seri[1:3], \"\\n\")  # 1. ve 2. elemanlar\n",
    "\n",
    "# Dilimleme\n",
    "print(seri[:3], \"\\n\")  # İlk 3 eleman\n",
    "print(seri[-2:], \"\\n\")  # Son 2 eleman"
   ]
  },
  {
   "cell_type": "markdown",
   "metadata": {},
   "source": [
    "#### **2.1.3 Seri Özellikleri ve Metodları**\n",
    "\n",
    "* Pandas serileri, çeşitli özelliklere ve metodlara sahiptir."
   ]
  },
  {
   "cell_type": "code",
   "execution_count": 6,
   "metadata": {},
   "outputs": [
    {
     "name": "stdout",
     "output_type": "stream",
     "text": [
      "5 \n",
      "\n",
      "RangeIndex(start=0, stop=5, step=1) \n",
      "\n",
      "[1 2 3 4 5] \n",
      "\n",
      "count    5.000000\n",
      "mean     3.000000\n",
      "std      1.581139\n",
      "min      1.000000\n",
      "25%      2.000000\n",
      "50%      3.000000\n",
      "75%      4.000000\n",
      "max      5.000000\n",
      "dtype: float64 \n",
      "\n"
     ]
    }
   ],
   "source": [
    "# Serinin boyutu\n",
    "print(seri.size, \"\\n\")\n",
    "\n",
    "# Serinin indeksleri\n",
    "print(seri.index, \"\\n\")\n",
    "\n",
    "# Serinin değerleri\n",
    "print(seri.values, \"\\n\")\n",
    "\n",
    "# Serinin istatistiksel özetleri\n",
    "print(seri.describe(), \"\\n\")"
   ]
  },
  {
   "cell_type": "markdown",
   "metadata": {},
   "source": [
    "### **2.2 Veri Çerçeveleri (DataFrames):**\n",
    "\n",
    "* DataFrame, Pandas kütüphanesindeki temel veri yapısıdır ve tablo benzeri bir iki boyutlu veri yapısını temsil eder. Veriler, farklı veri tipleri içerebilen sütunlar halinde düzenlenmiştir. DataFrame, verileri etiketli bir şekilde saklamak, işlemek ve analiz etmek için kullanılır. Pandas, Python'da veri analizi ve manipülasyonu için oldukça popüler bir kütüphanedir ve DataFrame, Pandas'ın bu popülerliğinde önemli bir rol oynamaktadır.\n",
    "\n",
    "DataFrame'in temel özellikleri şunlardır:\n",
    "\n",
    "1) **İki Boyutlu Yapı:** DataFrame, satırlar ve sütunlar şeklinde iki boyutlu bir yapıya sahiptir. Satırlar genellikle gözlemleri (örnekleri) temsil ederken, sütunlar değişkenleri (özellikleri) temsil eder.\n",
    "\n",
    "2) **İndeksleme:** DataFrame'in satırları, indeks adı verilen bir etiketle belirlenir. Bu indeks, her bir gözlemin benzersiz bir tanımlayıcısını sağlar.\n",
    "\n",
    "3) **Farklı Veri Tipleri:** Her bir sütun farklı veri tiplerini içerebilir. Örneğin, bir sütun sayısal değerleri içerebilirken, diğer bir sütun metinsel değerleri içerebilir.\n",
    "\n",
    "4) **Esnek Boyutlar:** DataFrame'ler, değişken sayısını ve gözlem sayısını dinamik olarak yönetebilir. Yani, DataFrame boyutları veri ekledikçe veya çıkardıkça otomatik olarak genişleyebilir veya küçülebilir.\n",
    "\n",
    "5) **Veri Manipülasyonu:** Pandas DataFrame, veri analizi, filtreleme, gruplama, birleştirme ve dönüşüm gibi çeşitli işlemleri kolayca gerçekleştirmenizi sağlayan geniş bir metod koleksiyonuna sahiptir.\n",
    "\n",
    "---"
   ]
  },
  {
   "cell_type": "markdown",
   "metadata": {},
   "source": [
    "#### **2.2.1 Veri Çerçevesi Oluşturma**\n",
    "\n",
    "* Pandas veri çerçeveleri, farklı veri kaynaklarından oluşturulabilir."
   ]
  },
  {
   "cell_type": "markdown",
   "metadata": {},
   "source": [
    "##### **Sözlükten Veri Çerçevesi Oluşturma**"
   ]
  },
  {
   "cell_type": "code",
   "execution_count": 7,
   "metadata": {},
   "outputs": [
    {
     "name": "stdout",
     "output_type": "stream",
     "text": [
      "    Name  Age\n",
      "0   John   28\n",
      "1   Anna   25\n",
      "2  Peter   32\n",
      "3  Linda   35\n"
     ]
    }
   ],
   "source": [
    "import pandas as pd\n",
    "\n",
    "data = {'Name': ['John', 'Anna', 'Peter', 'Linda'],\n",
    "        'Age': [28, 25, 32, 35]}\n",
    "df = pd.DataFrame(data)\n",
    "print(df)"
   ]
  },
  {
   "cell_type": "markdown",
   "metadata": {},
   "source": [
    "##### **NumPy Dizisinden Veri Çerçevesi Oluşturma**"
   ]
  },
  {
   "cell_type": "code",
   "execution_count": 8,
   "metadata": {},
   "outputs": [
    {
     "name": "stdout",
     "output_type": "stream",
     "text": [
      "   A  B  C\n",
      "0  1  2  3\n",
      "1  4  5  6\n",
      "2  7  8  9\n"
     ]
    }
   ],
   "source": [
    "import pandas as pd\n",
    "import numpy as np\n",
    "\n",
    "data = np.array([[1, 2, 3], [4, 5, 6], [7, 8, 9]])\n",
    "df = pd.DataFrame(data, columns=['A', 'B', 'C'])\n",
    "print(df)"
   ]
  },
  {
   "cell_type": "markdown",
   "metadata": {},
   "source": [
    "#### **2.2.2 Veri Çerçevesi İndeksleme ve Dilimleme**\n",
    "\n",
    "* Veri çerçeveleri, satırları ve sütunları indekslemek ve dilimlemek için kullanılabilir."
   ]
  },
  {
   "cell_type": "code",
   "execution_count": 11,
   "metadata": {},
   "outputs": [
    {
     "name": "stdout",
     "output_type": "stream",
     "text": [
      "     Name\n",
      "0   Ahmet\n",
      "1    Ayşe\n",
      "2  Mehmet\n",
      "3   Fatma\n",
      "4     Ali \n",
      "\n",
      "0     Ahmet\n",
      "1      Ayşe\n",
      "2    Mehmet\n",
      "3     Fatma\n",
      "4       Ali\n",
      "Name: Name, dtype: object \n",
      "\n",
      "Name    Ahmet\n",
      "Name: 0, dtype: object \n",
      "\n",
      "Ahmet \n",
      "\n",
      "     Name\n",
      "1    Ayşe\n",
      "2  Mehmet\n"
     ]
    }
   ],
   "source": [
    "import pandas as pd\n",
    "\n",
    "# Örnek bir veri listesi\n",
    "data = {'Name': ['Ahmet', 'Ayşe', 'Mehmet', 'Fatma', 'Ali']}\n",
    "\n",
    "# DataFrame oluşturma\n",
    "df = pd.DataFrame(data)\n",
    "\n",
    "# DataFrame'i görüntüleme\n",
    "print(df, \"\\n\")\n",
    "\n",
    "\n",
    "# Sütun seçme\n",
    "print(df['Name'], \"\\n\")\n",
    "\n",
    "# Satır seçme\n",
    "print(df.loc[0], \"\\n\")\n",
    "\n",
    "# Belirli bir hücreye erişme\n",
    "print(df.at[0, 'Name'], \"\\n\")\n",
    "\n",
    "# Dilimleme\n",
    "print(df.iloc[1:3, :])"
   ]
  },
  {
   "cell_type": "markdown",
   "metadata": {},
   "source": [
    "#### **2.2.3 Veri Çerçevesi Özellikleri ve Metodları**\n",
    "\n",
    "* Pandas veri çerçeveleri, çeşitli özelliklere ve metodlara sahiptir."
   ]
  },
  {
   "cell_type": "code",
   "execution_count": 13,
   "metadata": {},
   "outputs": [
    {
     "name": "stdout",
     "output_type": "stream",
     "text": [
      "(5, 1) \n",
      "\n",
      "RangeIndex(start=0, stop=5, step=1) \n",
      "\n",
      "Index(['Name'], dtype='object') \n",
      "\n",
      "     Name\n",
      "0   Ahmet\n",
      "1    Ayşe\n",
      "2  Mehmet\n",
      "3   Fatma\n",
      "4     Ali \n",
      "\n",
      "     Name\n",
      "0   Ahmet\n",
      "1    Ayşe\n",
      "2  Mehmet\n",
      "3   Fatma\n",
      "4     Ali\n"
     ]
    }
   ],
   "source": [
    "# Veri çerçevesinin boyutu\n",
    "print(df.shape, \"\\n\")\n",
    "\n",
    "# Veri çerçevesinin indeksleri\n",
    "print(df.index, \"\\n\")\n",
    "\n",
    "# Veri çerçevesinin sütunları\n",
    "print(df.columns, \"\\n\")\n",
    "\n",
    "# İlk n satırı görüntüleme\n",
    "print(df.head(), \"\\n\")\n",
    "\n",
    "# Son n satırı görüntüleme\n",
    "print(df.tail())"
   ]
  },
  {
   "cell_type": "code",
   "execution_count": 5,
   "metadata": {},
   "outputs": [
    {
     "name": "stdout",
     "output_type": "stream",
     "text": [
      "    Name  Age      City\n",
      "0    Ali   25  İstanbul\n",
      "1   Veli   30    Ankara\n",
      "2   Ayşe   35     İzmir\n",
      "3  Fatma   40     Bursa\n"
     ]
    }
   ],
   "source": [
    "# Sözlük üzerinden bir Veri Çerçevesi oluşturma\n",
    "data = {'Name': ['Ali', 'Veli', 'Ayşe', 'Fatma'],\n",
    "        'Age': [25, 30, 35, 40],\n",
    "        'City': ['İstanbul', 'Ankara', 'İzmir', 'Bursa']}\n",
    "\n",
    "df = pd.DataFrame(data)\n",
    "print(df)"
   ]
  },
  {
   "cell_type": "markdown",
   "metadata": {},
   "source": [
    "## **3) Veri Okuma ve Yazma**\n",
    "\n",
    "Pandas, çeşitli dosya formatlarından veri yüklemek için kullanılabilir. En yaygın kullanılanlar arasında CSV, Excel, SQL ve JSON bulunur.\n",
    "\n",
    "---"
   ]
  },
  {
   "cell_type": "markdown",
   "metadata": {},
   "source": [
    "### **CSV Dosyalarından Veri Okuma**\n",
    "\n",
    "* CSV (Comma Separated Values - Virgülle Ayrılmış Değerler) dosyaları, tablo biçimindeki verileri depolamak için yaygın olarak kullanılır. Pandas, `read_csv()` fonksiyonuyla CSV dosyalarını okuyabilir.\n",
    "\n",
    "```python\n",
    "# CSV dosyasından veri okuma\n",
    "df = pd.read_csv('veri.csv')\n",
    "print(df)\n",
    "```\n",
    "\n",
    "Burada `veri.csv` dosyası, mevcut çalışma dizininizde bulunmalıdır.\n",
    "\n",
    "---"
   ]
  },
  {
   "cell_type": "markdown",
   "metadata": {},
   "source": [
    "### **Excel Dosyalarından Veri Okuma**\n",
    "\n",
    "* Excel dosyaları, sıkça kullanılan bir veri depolama formatıdır. Pandas, `read_excel()` fonksiyonuyla Excel dosyalarını okuyabilir.\n",
    "\n",
    "```python\n",
    "# Excel dosyasından veri okuma\n",
    "df = pd.read_excel('veri.xlsx', sheet_name='Sheet1')\n",
    "print(df)\n",
    "```\n",
    "\n",
    "Bu komut, 'veri.xlsx' Excel dosyasındaki 'Sheet1' sayfasındaki veriyi okur.\n",
    "\n",
    "---"
   ]
  },
  {
   "cell_type": "markdown",
   "metadata": {},
   "source": [
    "### **Veri Çerçevesini CSV ve Excel Formatlarında Kaydetme**\n",
    "\n",
    "* Pandas, veri çerçevesini CSV ve Excel formatlarında kaydetmek için `to_csv()` ve `to_excel()` metodlarını sağlar.\n",
    "\n",
    "```python\n",
    "import pandas as pd\n",
    "\n",
    "# Veri çerçevesini CSV olarak kaydetme\n",
    "df.to_csv('veri_yeni.csv', index=False)\n",
    "\n",
    "# Veri çerçevesini Excel olarak kaydetme\n",
    "df.to_excel('veri_yeni.xlsx', index=False)\n",
    "```\n",
    "\n",
    "---"
   ]
  },
  {
   "cell_type": "markdown",
   "metadata": {},
   "source": [
    "### **1.4 Veri Kontrolü**\n",
    "\n",
    "Veri kontrolü, veri kümesinin yapısını anlamak için önemlidir.\n",
    "\n",
    "#### **İlk ve Son Gözlemleri Görüntüleme:**\n",
    "\n",
    "```python\n",
    "# İlk 5 gözlemi görüntüleme\n",
    "print(df.head())\n",
    "\n",
    "# Son 5 gözlemi görüntüleme\n",
    "print(df.tail())\n",
    "```\n",
    "\n",
    "Başlangıçta veya sonunda bulunan veri örneklerini görüntülemek için `head()` ve `tail()` fonksiyonları kullanılır.\n",
    "\n",
    "#### **Veri Tiplerini Kontrol Etme:**\n",
    "\n",
    "```python\n",
    "# Veri çerçevesindeki sütunların veri tiplerini kontrol etme\n",
    "print(df.dtypes)\n",
    "```\n",
    "\n",
    "Bu, her bir sütunun veri tipini gösterir.\n",
    "\n",
    "#### **Eksik Değerlerin Kontrolü:**\n",
    "\n",
    "```python\n",
    "# Eksik değerlerin kontrolü\n",
    "print(df.isnull().sum())\n",
    "```\n",
    "\n",
    "`isnull()` fonksiyonu, her hücrenin eksik olup olmadığını kontrol eder ve `sum()` fonksiyonu, her sütundaki eksik değer sayısını toplar.\n",
    "\n",
    "---"
   ]
  },
  {
   "cell_type": "code",
   "execution_count": 6,
   "metadata": {},
   "outputs": [
    {
     "data": {
      "text/html": [
       "<div>\n",
       "<style scoped>\n",
       "    .dataframe tbody tr th:only-of-type {\n",
       "        vertical-align: middle;\n",
       "    }\n",
       "\n",
       "    .dataframe tbody tr th {\n",
       "        vertical-align: top;\n",
       "    }\n",
       "\n",
       "    .dataframe thead th {\n",
       "        text-align: right;\n",
       "    }\n",
       "</style>\n",
       "<table border=\"1\" class=\"dataframe\">\n",
       "  <thead>\n",
       "    <tr style=\"text-align: right;\">\n",
       "      <th></th>\n",
       "      <th>Name</th>\n",
       "      <th>Age</th>\n",
       "      <th>City</th>\n",
       "    </tr>\n",
       "  </thead>\n",
       "  <tbody>\n",
       "    <tr>\n",
       "      <th>0</th>\n",
       "      <td>Ali</td>\n",
       "      <td>25</td>\n",
       "      <td>İstanbul</td>\n",
       "    </tr>\n",
       "    <tr>\n",
       "      <th>1</th>\n",
       "      <td>Veli</td>\n",
       "      <td>30</td>\n",
       "      <td>Ankara</td>\n",
       "    </tr>\n",
       "    <tr>\n",
       "      <th>2</th>\n",
       "      <td>Ayşe</td>\n",
       "      <td>35</td>\n",
       "      <td>İzmir</td>\n",
       "    </tr>\n",
       "    <tr>\n",
       "      <th>3</th>\n",
       "      <td>Fatma</td>\n",
       "      <td>40</td>\n",
       "      <td>Bursa</td>\n",
       "    </tr>\n",
       "  </tbody>\n",
       "</table>\n",
       "</div>"
      ],
      "text/plain": [
       "    Name  Age      City\n",
       "0    Ali   25  İstanbul\n",
       "1   Veli   30    Ankara\n",
       "2   Ayşe   35     İzmir\n",
       "3  Fatma   40     Bursa"
      ]
     },
     "execution_count": 6,
     "metadata": {},
     "output_type": "execute_result"
    }
   ],
   "source": [
    "df.head()"
   ]
  },
  {
   "cell_type": "code",
   "execution_count": 17,
   "metadata": {},
   "outputs": [
    {
     "data": {
      "text/html": [
       "<div>\n",
       "<style scoped>\n",
       "    .dataframe tbody tr th:only-of-type {\n",
       "        vertical-align: middle;\n",
       "    }\n",
       "\n",
       "    .dataframe tbody tr th {\n",
       "        vertical-align: top;\n",
       "    }\n",
       "\n",
       "    .dataframe thead th {\n",
       "        text-align: right;\n",
       "    }\n",
       "</style>\n",
       "<table border=\"1\" class=\"dataframe\">\n",
       "  <thead>\n",
       "    <tr style=\"text-align: right;\">\n",
       "      <th></th>\n",
       "      <th>Department</th>\n",
       "      <th>Salary</th>\n",
       "      <th>City</th>\n",
       "    </tr>\n",
       "  </thead>\n",
       "  <tbody>\n",
       "    <tr>\n",
       "      <th>1</th>\n",
       "      <td>HR</td>\n",
       "      <td>5000</td>\n",
       "      <td>İstanbul</td>\n",
       "    </tr>\n",
       "    <tr>\n",
       "      <th>2</th>\n",
       "      <td>Finance</td>\n",
       "      <td>7000</td>\n",
       "      <td>Mersin</td>\n",
       "    </tr>\n",
       "    <tr>\n",
       "      <th>3</th>\n",
       "      <td>IT</td>\n",
       "      <td>5500</td>\n",
       "      <td>Giresun</td>\n",
       "    </tr>\n",
       "    <tr>\n",
       "      <th>4</th>\n",
       "      <td>HR</td>\n",
       "      <td>4800</td>\n",
       "      <td>Trabzon</td>\n",
       "    </tr>\n",
       "    <tr>\n",
       "      <th>5</th>\n",
       "      <td>Finance</td>\n",
       "      <td>7200</td>\n",
       "      <td>Adana</td>\n",
       "    </tr>\n",
       "  </tbody>\n",
       "</table>\n",
       "</div>"
      ],
      "text/plain": [
       "  Department  Salary      City\n",
       "1         HR    5000  İstanbul\n",
       "2    Finance    7000    Mersin\n",
       "3         IT    5500   Giresun\n",
       "4         HR    4800   Trabzon\n",
       "5    Finance    7200     Adana"
      ]
     },
     "execution_count": 17,
     "metadata": {},
     "output_type": "execute_result"
    }
   ],
   "source": [
    "df.tail()"
   ]
  },
  {
   "cell_type": "code",
   "execution_count": 19,
   "metadata": {},
   "outputs": [
    {
     "data": {
      "text/plain": [
       "Department    object\n",
       "Salary         int64\n",
       "City          object\n",
       "dtype: object"
      ]
     },
     "execution_count": 19,
     "metadata": {},
     "output_type": "execute_result"
    }
   ],
   "source": [
    "df.dtypes"
   ]
  },
  {
   "cell_type": "markdown",
   "metadata": {},
   "source": [
    "### **1.5 Temel İşlemler**\n",
    "\n",
    "Temel işlemler, veri kümesini manipüle etmek için kullanılır.\n",
    "\n",
    "#### **Sütunları, Satırları ve Hücreleri Seçme:**\n",
    "\n",
    "```python\n",
    "# Belirli bir sütunu seçme\n",
    "print(df['Name'])\n",
    "\n",
    "# Belirli bir satırı seçme\n",
    "print(df.iloc[0])\n",
    "\n",
    "# Belirli bir hücreyi seçme\n",
    "print(df.at[0, 'Name'])\n",
    "```\n",
    "\n",
    "Bu örneklerde, `[]`, `iloc[]` ve `at[]` kullanılarak sırasıyla sütunlar, satırlar ve belirli hücreler seçilir.\n",
    "\n",
    "#### **Sütunları Yeniden Adlandırma ve Sıralama:**\n",
    "\n",
    "```python\n",
    "# Sütunları yeniden adlandırma\n",
    "df.rename(columns={'Name': 'İsim', 'Age': 'Yaş'}, inplace=True)\n",
    "\n",
    "# Sütunları sıralama\n",
    "df = df[['Yaş', 'İsim', 'City']]\n",
    "```\n",
    "\n",
    "Sütunları yeniden adlandırmak ve sıralamak için `rename()` ve sütun adları üzerinden liste indeksleme kullanılır.\n",
    "\n",
    "#### **Veri Ekleme, Silme ve Güncelleme:**\n",
    "\n",
    "```python\n",
    "# Yeni bir sütun ekleme\n",
    "df['Country'] = 'Türkiye'\n",
    "\n",
    "# Sütun silme\n",
    "df.drop(columns=['Country'], inplace=True)\n",
    "\n",
    "# Veri güncelleme\n",
    "df.at[0, 'Yaş'] = 26\n",
    "```\n",
    "\n",
    "Bu işlemler, veri çerçevesine yeni sütun eklemek, sütunları silmek ve mevcut veriyi güncellemek için kullanılır."
   ]
  },
  {
   "cell_type": "markdown",
   "metadata": {},
   "source": [
    "## **2. Veri Manipülasyonu**"
   ]
  },
  {
   "cell_type": "markdown",
   "metadata": {},
   "source": [
    "### **2.1 Veri Filtreleme ve Seçme**\n",
    "\n",
    "Veri analizi sırasında genellikle belirli kriterlere göre veriyi filtrelememiz ve belirli verilere erişmemiz gerekir. Pandas, bu tür işlemleri gerçekleştirmek için çeşitli fonksiyonlar sağlar.\n",
    "\n",
    "#### **Koşullu Seçim İşlemleri**\n",
    "\n",
    "Pandas, koşullu ifadeler kullanarak veriyi filtreleme yeteneği sağlar. Bu, belirli bir koşulu sağlayan satırları seçmek için kullanılır."
   ]
  },
  {
   "cell_type": "code",
   "execution_count": 7,
   "metadata": {},
   "outputs": [
    {
     "name": "stdout",
     "output_type": "stream",
     "text": [
      "    Name  Age   City\n",
      "2   Ayşe   35  İzmir\n",
      "3  Fatma   40  Bursa\n"
     ]
    }
   ],
   "source": [
    "import pandas as pd\n",
    "\n",
    "# Örnek bir veri çerçevesi oluşturalım\n",
    "data = {'Name': ['Ali', 'Veli', 'Ayşe', 'Fatma'],\n",
    "        'Age': [25, 30, 35, 40],\n",
    "        'City': ['İstanbul', 'Ankara', 'İzmir', 'Bursa']}\n",
    "\n",
    "df = pd.DataFrame(data)\n",
    "\n",
    "# Yaşı 30'dan büyük olanları seçelim\n",
    "filtre = df['Age'] > 30\n",
    "print(df[filtre])"
   ]
  },
  {
   "cell_type": "markdown",
   "metadata": {},
   "source": [
    "Bu kod parçası, yaş sütunundaki değeri 30'dan büyük olan satırları seçer."
   ]
  },
  {
   "cell_type": "markdown",
   "metadata": {},
   "source": [
    "#### **İndeksleme ve Dilimleme**\n",
    "\n",
    "Pandas, veri çerçevesinde belirli satırları veya sütunları seçmek için indeksleme ve dilimleme işlemlerini destekler."
   ]
  },
  {
   "cell_type": "code",
   "execution_count": 8,
   "metadata": {},
   "outputs": [
    {
     "name": "stdout",
     "output_type": "stream",
     "text": [
      "0      Ali\n",
      "1     Veli\n",
      "2     Ayşe\n",
      "3    Fatma\n",
      "Name: Name, dtype: object \n",
      "\n",
      "Name         Ali\n",
      "Age           25\n",
      "City    İstanbul\n",
      "Name: 0, dtype: object \n",
      "\n",
      "   Name  Age    City\n",
      "1  Veli   30  Ankara\n",
      "2  Ayşe   35   İzmir \n",
      "\n",
      "   Name  Age\n",
      "1  Veli   30\n",
      "2  Ayşe   35\n"
     ]
    }
   ],
   "source": [
    "# Belirli bir sütunu seçme\n",
    "print(df['Name'], \"\\n\")\n",
    "\n",
    "# Belirli bir satırı seçme\n",
    "print(df.iloc[0], \"\\n\")\n",
    "\n",
    "# Belirli bir aralıktaki satırları seçme\n",
    "print(df.iloc[1:3], \"\\n\")\n",
    "\n",
    "# Belirli satırları ve sütunları seçme\n",
    "print(df.iloc[1:3, 0:2])"
   ]
  },
  {
   "cell_type": "markdown",
   "metadata": {},
   "source": [
    "#### **Koşullu Seçim ve Değiştirme**\n",
    "\n",
    "Pandas, belirli koşulları sağlayan hücreleri seçmek ve bu hücrelerin değerlerini değiştirmek için kullanılabilir."
   ]
  },
  {
   "cell_type": "code",
   "execution_count": 9,
   "metadata": {},
   "outputs": [
    {
     "name": "stdout",
     "output_type": "stream",
     "text": [
      "    Name  Age      City\n",
      "0    Ali   25  İstanbul\n",
      "1   Veli   30    Ankara\n",
      "2  Older   35     İzmir\n",
      "3  Older   40     Bursa\n"
     ]
    }
   ],
   "source": [
    "# Yaşı 30'dan büyük olanların isimlerini değiştirme\n",
    "df.loc[df['Age'] > 30, 'Name'] = 'Older'\n",
    "print(df)"
   ]
  },
  {
   "cell_type": "markdown",
   "metadata": {},
   "source": [
    "Bu kod parçası, yaş sütununda değeri 30'dan büyük olan satırların isimlerini 'Older' olarak değiştirir."
   ]
  },
  {
   "cell_type": "markdown",
   "metadata": {},
   "source": [
    "### **2.2 Gruplama ve Toplama**\n",
    "\n",
    "Veri analizinde sıklıkla kullanılan bir diğer önemli işlem, veriyi belirli bir kritere göre gruplamak ve bu gruplar üzerinde toplama işlemleri yapmaktır. Pandas, bu tür işlemleri gerçekleştirmek için `groupby()` fonksiyonunu sağlar.\n",
    "\n",
    "#### **`groupby()` Fonksiyonu**\n",
    "\n",
    "`groupby()` fonksiyonu, belirli bir sütuna göre veriyi gruplar ve her bir grup üzerinde toplama işlemleri yapmamıza olanak tanır."
   ]
  },
  {
   "cell_type": "code",
   "execution_count": 10,
   "metadata": {},
   "outputs": [
    {
     "name": "stdout",
     "output_type": "stream",
     "text": [
      "Department\n",
      "Finance    7100.0\n",
      "HR         4900.0\n",
      "IT         5750.0\n",
      "Name: Salary, dtype: float64\n"
     ]
    }
   ],
   "source": [
    "import pandas as pd\n",
    "\n",
    "# Örnek bir veri çerçevesi oluşturalım\n",
    "data = {'Department': ['IT', 'HR', 'Finance', 'IT', 'HR', 'Finance'],\n",
    "        'Salary': [6000, 5000, 7000, 5500, 4800, 7200]}\n",
    "\n",
    "df = pd.DataFrame(data)\n",
    "\n",
    "# Departmanlara göre ortalama maaşları hesaplama\n",
    "ortalama_maaslar = df.groupby('Department')['Salary'].mean()\n",
    "print(ortalama_maaslar)"
   ]
  },
  {
   "cell_type": "markdown",
   "metadata": {},
   "source": [
    "Bu kod parçası, 'Department' sütununa göre veriyi gruplar ve her bir departmanın ortalama maaşını hesaplar."
   ]
  },
  {
   "cell_type": "markdown",
   "metadata": {},
   "source": [
    "#### **Agregasyon Fonksiyonları**\n",
    "\n",
    "`groupby()` fonksiyonu ile kullanabileceğimiz yaygın agregasyon fonksiyonları arasında `sum()`, `mean()`, `median()`, `max()`, `min()` vb. bulunur."
   ]
  },
  {
   "cell_type": "code",
   "execution_count": 11,
   "metadata": {},
   "outputs": [
    {
     "name": "stdout",
     "output_type": "stream",
     "text": [
      "Department\n",
      "Finance    14200\n",
      "HR          9800\n",
      "IT         11500\n",
      "Name: Salary, dtype: int64 \n",
      "\n",
      "Department\n",
      "Finance    7200\n",
      "HR         5000\n",
      "IT         6000\n",
      "Name: Salary, dtype: int64\n"
     ]
    }
   ],
   "source": [
    "# Departmanlara göre toplam maaşları hesaplama\n",
    "toplam_maaslar = df.groupby('Department')['Salary'].sum()\n",
    "print(toplam_maaslar, \"\\n\")\n",
    "\n",
    "# Departmanlara göre en yüksek maaşları bulma\n",
    "en_yuksek_maaslar = df.groupby('Department')['Salary'].max()\n",
    "print(en_yuksek_maaslar)"
   ]
  },
  {
   "cell_type": "markdown",
   "metadata": {},
   "source": [
    "Bu kod parçaları, departmanlara göre toplam maaşları hesaplar ve her bir departmandaki en yüksek maaşı bulur."
   ]
  },
  {
   "cell_type": "markdown",
   "metadata": {},
   "source": [
    "#### **Birden Fazla Sütuna Göre Gruplama**\n",
    "\n",
    "Ayrıca, `groupby()` fonksiyonunu birden fazla sütuna göre de kullanabiliriz."
   ]
  },
  {
   "cell_type": "code",
   "execution_count": 12,
   "metadata": {},
   "outputs": [
    {
     "data": {
      "text/html": [
       "<div>\n",
       "<style scoped>\n",
       "    .dataframe tbody tr th:only-of-type {\n",
       "        vertical-align: middle;\n",
       "    }\n",
       "\n",
       "    .dataframe tbody tr th {\n",
       "        vertical-align: top;\n",
       "    }\n",
       "\n",
       "    .dataframe thead th {\n",
       "        text-align: right;\n",
       "    }\n",
       "</style>\n",
       "<table border=\"1\" class=\"dataframe\">\n",
       "  <thead>\n",
       "    <tr style=\"text-align: right;\">\n",
       "      <th></th>\n",
       "      <th>Department</th>\n",
       "      <th>Salary</th>\n",
       "    </tr>\n",
       "  </thead>\n",
       "  <tbody>\n",
       "    <tr>\n",
       "      <th>0</th>\n",
       "      <td>IT</td>\n",
       "      <td>6000</td>\n",
       "    </tr>\n",
       "    <tr>\n",
       "      <th>1</th>\n",
       "      <td>HR</td>\n",
       "      <td>5000</td>\n",
       "    </tr>\n",
       "    <tr>\n",
       "      <th>2</th>\n",
       "      <td>Finance</td>\n",
       "      <td>7000</td>\n",
       "    </tr>\n",
       "    <tr>\n",
       "      <th>3</th>\n",
       "      <td>IT</td>\n",
       "      <td>5500</td>\n",
       "    </tr>\n",
       "    <tr>\n",
       "      <th>4</th>\n",
       "      <td>HR</td>\n",
       "      <td>4800</td>\n",
       "    </tr>\n",
       "    <tr>\n",
       "      <th>5</th>\n",
       "      <td>Finance</td>\n",
       "      <td>7200</td>\n",
       "    </tr>\n",
       "  </tbody>\n",
       "</table>\n",
       "</div>"
      ],
      "text/plain": [
       "  Department  Salary\n",
       "0         IT    6000\n",
       "1         HR    5000\n",
       "2    Finance    7000\n",
       "3         IT    5500\n",
       "4         HR    4800\n",
       "5    Finance    7200"
      ]
     },
     "execution_count": 12,
     "metadata": {},
     "output_type": "execute_result"
    }
   ],
   "source": [
    "df"
   ]
  },
  {
   "cell_type": "code",
   "execution_count": 13,
   "metadata": {},
   "outputs": [
    {
     "name": "stdout",
     "output_type": "stream",
     "text": [
      "Department  City    \n",
      "Finance     Adana       7200.0\n",
      "            Mersin      7000.0\n",
      "HR          Trabzon     4800.0\n",
      "            İstanbul    5000.0\n",
      "IT          Giresun     5500.0\n",
      "            Ordu        6000.0\n",
      "Name: Salary, dtype: float64\n"
     ]
    }
   ],
   "source": [
    "# Departman ve Şehre göre ortalama maaşları hesaplama\n",
    "df[\"City\"] = [\"Ordu\", \"İstanbul\", \"Mersin\", \"Giresun\", \"Trabzon\", \"Adana\"]\n",
    "ortalama_maaslar = df.groupby(['Department', 'City'])['Salary'].mean()\n",
    "print(ortalama_maaslar)"
   ]
  },
  {
   "cell_type": "markdown",
   "metadata": {},
   "source": [
    "Bu kod parçası, departman ve şehre göre veriyi gruplar ve her bir grup için ortalama maaşı hesaplar."
   ]
  },
  {
   "cell_type": "markdown",
   "metadata": {},
   "source": [
    "### **2.3 Veri Birleştirme ve Birleştirme**\n",
    "\n",
    "Veri analizinde, farklı veri kaynaklarından gelen verileri birleştirmek ve birleştirmek önemlidir. Pandas, bu tür işlemleri gerçekleştirmek için çeşitli fonksiyonlar sağlar, bunlar arasında `concat()`, `merge()` ve `join()` bulunur.\n",
    "\n",
    "#### => `concat()` Fonksiyonu\n",
    "\n",
    "`concat()` fonksiyonu, farklı veri çerçevelerini birleştirmek için kullanılır. Birleştirme işlemi sırasında, sütun veya satırların sıralanması veya hizalanması gerekmez."
   ]
  },
  {
   "cell_type": "code",
   "execution_count": 14,
   "metadata": {},
   "outputs": [
    {
     "name": "stdout",
     "output_type": "stream",
     "text": [
      "    A   B\n",
      "0  A1  B1\n",
      "1  A2  B2\n",
      "2  A3  B3\n",
      "0  A4  B4\n",
      "1  A5  B5\n",
      "2  A6  B6\n"
     ]
    }
   ],
   "source": [
    "import pandas as pd\n",
    "\n",
    "# Örnek veri çerçeveleri oluşturalım\n",
    "df1 = pd.DataFrame({'A': ['A1', 'A2', 'A3'],\n",
    "                    'B': ['B1', 'B2', 'B3']})\n",
    "\n",
    "df2 = pd.DataFrame({'A': ['A4', 'A5', 'A6'],\n",
    "                    'B': ['B4', 'B5', 'B6']})\n",
    "\n",
    "# Veri çerçevelerini birleştirelim\n",
    "birlesik_df = pd.concat([df1, df2])\n",
    "print(birlesik_df)"
   ]
  },
  {
   "cell_type": "markdown",
   "metadata": {},
   "source": [
    "Bu kod parçası, `df1` ve `df2` veri çerçevelerini sıralamadan birleştirir."
   ]
  },
  {
   "cell_type": "markdown",
   "metadata": {},
   "source": [
    "#### **`merge()` Fonksiyonu**\n",
    "\n",
    "`merge()` fonksiyonu, iki veri çerçevesini birleştirmek için kullanılır. Bu fonksiyon, birleştirme işlemi sırasında belirli bir sütuna göre eşleşen satırları bulur."
   ]
  },
  {
   "cell_type": "code",
   "execution_count": 15,
   "metadata": {},
   "outputs": [
    {
     "name": "stdout",
     "output_type": "stream",
     "text": [
      "  employee department  age\n",
      "0      Ali         HR   25\n",
      "1     Veli         IT   30\n"
     ]
    }
   ],
   "source": [
    "df1 = pd.DataFrame({'employee': ['Ali', 'Veli', 'Ayşe'],\n",
    "                    'department': ['HR', 'IT', 'Finance']})\n",
    "\n",
    "df2 = pd.DataFrame({'employee': ['Ali', 'Veli', 'Ahmet'],\n",
    "                    'age': [25, 30, 35]})\n",
    "\n",
    "# Veri çerçevelerini birleştirelim\n",
    "birlesik_df = pd.merge(df1, df2, on='employee')\n",
    "print(birlesik_df)"
   ]
  },
  {
   "cell_type": "markdown",
   "metadata": {},
   "source": [
    "Bu kod parçası, 'employee' sütununa göre `df1` ve `df2` veri çerçevelerini birleştirir."
   ]
  },
  {
   "cell_type": "markdown",
   "metadata": {},
   "source": [
    "#### **`join()` Fonksiyonu**\n",
    "\n",
    "`join()` fonksiyonu, veri çerçevelerini birleştirmek için kullanılabilir. Bu fonksiyon, veri çerçeveleri üzerinde birleştirme işlemini gerçekleştirirken, indekslere göre birleştirme işlemi yapar."
   ]
  },
  {
   "cell_type": "code",
   "execution_count": 16,
   "metadata": {},
   "outputs": [
    {
     "name": "stdout",
     "output_type": "stream",
     "text": [
      "     A    B\n",
      "1   A1  NaN\n",
      "2   A2   B1\n",
      "3   A3   B2\n",
      "4  NaN   B3\n"
     ]
    }
   ],
   "source": [
    "# Örnek veri çerçeveleri oluşturalım\n",
    "df1 = pd.DataFrame({'A': ['A1', 'A2', 'A3']},\n",
    "                   index=[1, 2, 3])\n",
    "\n",
    "df2 = pd.DataFrame({'B': ['B1', 'B2', 'B3']},\n",
    "                   index=[2, 3, 4])\n",
    "\n",
    "# Veri çerçevelerini birleştirelim\n",
    "birlesik_df = df1.join(df2, how='outer')\n",
    "print(birlesik_df)"
   ]
  },
  {
   "cell_type": "markdown",
   "metadata": {},
   "source": [
    "Bu kod parçası, `df1` ve `df2` veri çerçevelerini indekslere göre birleştirir."
   ]
  }
 ],
 "metadata": {
  "kernelspec": {
   "display_name": "Python 3",
   "language": "python",
   "name": "python3"
  },
  "language_info": {
   "codemirror_mode": {
    "name": "ipython",
    "version": 3
   },
   "file_extension": ".py",
   "mimetype": "text/x-python",
   "name": "python",
   "nbconvert_exporter": "python",
   "pygments_lexer": "ipython3",
   "version": "3.11.2"
  }
 },
 "nbformat": 4,
 "nbformat_minor": 2
}
